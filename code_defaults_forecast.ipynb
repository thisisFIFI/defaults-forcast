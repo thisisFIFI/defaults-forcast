{
 "cells": [
  {
   "cell_type": "markdown",
   "metadata": {},
   "source": [
    "### 数据读取"
   ]
  },
  {
   "cell_type": "code",
   "execution_count": 2,
   "metadata": {},
   "outputs": [
    {
     "name": "stderr",
     "output_type": "stream",
     "text": [
      "/opt/anaconda3/lib/python3.8/site-packages/IPython/core/interactiveshell.py:3071: DtypeWarning: Columns (13,21,29) have mixed types.Specify dtype option on import or set low_memory=False.\n",
      "  has_raised = await self.run_ast_nodes(code_ast.body, cell_name,\n"
     ]
    }
   ],
   "source": [
    "import pandas as pd\n",
    "import numpy as np\n",
    "import os\n",
    "\n",
    "import matplotlib\n",
    "import matplotlib.pyplot as plt\n",
    "\n",
    "matplotlib.matplotlib_fname()\n",
    "%matplotlib inline\n",
    "\n",
    "os.chdir(r\"/Users/helefei/Documents/统计建模/3 数据分析项目/数据分析项目提交\")\n",
    "alldata = pd.read_csv('train.csv')"
   ]
  },
  {
   "cell_type": "markdown",
   "metadata": {},
   "source": [
    "## 数据预处理"
   ]
  },
  {
   "cell_type": "markdown",
   "metadata": {},
   "source": [
    "### （一）数据清理"
   ]
  },
  {
   "cell_type": "code",
   "execution_count": 3,
   "metadata": {},
   "outputs": [
    {
     "data": {
      "text/plain": [
       "0           905890\n",
       "1           138982\n",
       "2            39871\n",
       "3            14552\n",
       "0            13675\n",
       "4             6586\n",
       "5             3312\n",
       "6             1921\n",
       "1             1856\n",
       "7              993\n",
       "8              581\n",
       "2              514\n",
       "9              370\n",
       "10             276\n",
       "3              167\n",
       "11             165\n",
       "12             128\n",
       "13              88\n",
       "4               77\n",
       "14              68\n",
       "15              42\n",
       "5               31\n",
       "16              24\n",
       "18              17\n",
       "19              12\n",
       "6               12\n",
       "7               12\n",
       "20              11\n",
       "17              10\n",
       "8                9\n",
       "9                8\n",
       "21               5\n",
       "23               2\n",
       "10               2\n",
       "26               2\n",
       "13               1\n",
       "21               1\n",
       "11               1\n",
       "22               1\n",
       "Jan-1996         1\n",
       "27               1\n",
       "30               1\n",
       "32               1\n",
       "35               1\n",
       "36               1\n",
       "58               1\n",
       "Jan-1997         1\n",
       "12               1\n",
       "24               1\n",
       "Name: delinq_2yrs, dtype: int64"
      ]
     },
     "execution_count": 3,
     "metadata": {},
     "output_type": "execute_result"
    }
   ],
   "source": [
    "# warning 排查\n",
    "alldata.iloc[:,21].value_counts() "
   ]
  },
  {
   "cell_type": "code",
   "execution_count": 4,
   "metadata": {},
   "outputs": [
    {
     "name": "stdout",
     "output_type": "stream",
     "text": [
      "         Unnamed: 0  y  loan_amnt  funded_amnt  funded_amnt_inv        term  \\\n",
      "788815       788816  1       9200         9200         9200.000   36 months   \n",
      "1068957     1068958  0      10000        10000         6592.916   36 months   \n",
      "\n",
      "         int_rate  installment grade sub_grade  ... num_tl_op_past_12m  \\\n",
      "788815       7.07       284.37     A        A2  ...              100.0   \n",
      "1068957     14.74       345.37     D        D3  ...                NaN   \n",
      "\n",
      "        pct_tl_nvr_dlq percent_bc_gt_75 pub_rec_bankruptcies tax_liens  \\\n",
      "788815             0.0              0.0                  0.0  168271.0   \n",
      "1068957            NaN              0.0                  0.0       NaN   \n",
      "\n",
      "        tot_hi_cred_lim total_bal_ex_mort total_bc_limit  \\\n",
      "788815          21841.0           64200.0        14221.0   \n",
      "1068957             NaN               NaN            NaN   \n",
      "\n",
      "        total_il_high_credit_limit disbursement_method  \n",
      "788815                         NaN                   N  \n",
      "1068957                        NaN                   N  \n",
      "\n",
      "[2 rows x 90 columns]\n"
     ]
    }
   ],
   "source": [
    "# 问题是出在第788815行与第1068957行\n",
    "print(alldata.loc[alldata['delinq_2yrs'].isin(['Jan-1997','Jan-1996']),:])"
   ]
  },
  {
   "cell_type": "code",
   "execution_count": 5,
   "metadata": {},
   "outputs": [
    {
     "data": {
      "text/html": [
       "<div>\n",
       "<style scoped>\n",
       "    .dataframe tbody tr th:only-of-type {\n",
       "        vertical-align: middle;\n",
       "    }\n",
       "\n",
       "    .dataframe tbody tr th {\n",
       "        vertical-align: top;\n",
       "    }\n",
       "\n",
       "    .dataframe thead th {\n",
       "        text-align: right;\n",
       "    }\n",
       "</style>\n",
       "<table border=\"1\" class=\"dataframe\">\n",
       "  <thead>\n",
       "    <tr style=\"text-align: right;\">\n",
       "      <th></th>\n",
       "      <th>Unnamed: 0</th>\n",
       "      <th>y</th>\n",
       "      <th>loan_amnt</th>\n",
       "      <th>funded_amnt</th>\n",
       "      <th>funded_amnt_inv</th>\n",
       "      <th>term</th>\n",
       "      <th>int_rate</th>\n",
       "      <th>installment</th>\n",
       "      <th>grade</th>\n",
       "      <th>sub_grade</th>\n",
       "      <th>...</th>\n",
       "      <th>num_tl_op_past_12m</th>\n",
       "      <th>pct_tl_nvr_dlq</th>\n",
       "      <th>percent_bc_gt_75</th>\n",
       "      <th>pub_rec_bankruptcies</th>\n",
       "      <th>tax_liens</th>\n",
       "      <th>tot_hi_cred_lim</th>\n",
       "      <th>total_bal_ex_mort</th>\n",
       "      <th>total_bc_limit</th>\n",
       "      <th>total_il_high_credit_limit</th>\n",
       "      <th>disbursement_method</th>\n",
       "    </tr>\n",
       "  </thead>\n",
       "  <tbody>\n",
       "    <tr>\n",
       "      <th>788814</th>\n",
       "      <td>788815</td>\n",
       "      <td>0</td>\n",
       "      <td>5000</td>\n",
       "      <td>5000</td>\n",
       "      <td>5000.000</td>\n",
       "      <td>36 months</td>\n",
       "      <td>14.08</td>\n",
       "      <td>171.09</td>\n",
       "      <td>C</td>\n",
       "      <td>C3</td>\n",
       "      <td>...</td>\n",
       "      <td>4.0</td>\n",
       "      <td>90.0</td>\n",
       "      <td>66.7</td>\n",
       "      <td>0.0</td>\n",
       "      <td>0.0</td>\n",
       "      <td>400775.0</td>\n",
       "      <td>70401.0</td>\n",
       "      <td>7700.0</td>\n",
       "      <td>74875.0</td>\n",
       "      <td>Cash</td>\n",
       "    </tr>\n",
       "    <tr>\n",
       "      <th>788815</th>\n",
       "      <td>788816</td>\n",
       "      <td>1</td>\n",
       "      <td>9200</td>\n",
       "      <td>9200</td>\n",
       "      <td>9200.000</td>\n",
       "      <td>36 months</td>\n",
       "      <td>7.07</td>\n",
       "      <td>284.37</td>\n",
       "      <td>A</td>\n",
       "      <td>A2</td>\n",
       "      <td>...</td>\n",
       "      <td>100.0</td>\n",
       "      <td>0.0</td>\n",
       "      <td>0.0</td>\n",
       "      <td>0.0</td>\n",
       "      <td>168271.0</td>\n",
       "      <td>21841.0</td>\n",
       "      <td>64200.0</td>\n",
       "      <td>14221.0</td>\n",
       "      <td>NaN</td>\n",
       "      <td>N</td>\n",
       "    </tr>\n",
       "    <tr>\n",
       "      <th>1068957</th>\n",
       "      <td>1068958</td>\n",
       "      <td>0</td>\n",
       "      <td>10000</td>\n",
       "      <td>10000</td>\n",
       "      <td>6592.916</td>\n",
       "      <td>36 months</td>\n",
       "      <td>14.74</td>\n",
       "      <td>345.37</td>\n",
       "      <td>D</td>\n",
       "      <td>D3</td>\n",
       "      <td>...</td>\n",
       "      <td>NaN</td>\n",
       "      <td>NaN</td>\n",
       "      <td>0.0</td>\n",
       "      <td>0.0</td>\n",
       "      <td>NaN</td>\n",
       "      <td>NaN</td>\n",
       "      <td>NaN</td>\n",
       "      <td>NaN</td>\n",
       "      <td>NaN</td>\n",
       "      <td>N</td>\n",
       "    </tr>\n",
       "    <tr>\n",
       "      <th>1068958</th>\n",
       "      <td>1068959</td>\n",
       "      <td>0</td>\n",
       "      <td>10000</td>\n",
       "      <td>10000</td>\n",
       "      <td>4000.000</td>\n",
       "      <td>36 months</td>\n",
       "      <td>13.47</td>\n",
       "      <td>339.23</td>\n",
       "      <td>C</td>\n",
       "      <td>C4</td>\n",
       "      <td>...</td>\n",
       "      <td>NaN</td>\n",
       "      <td>NaN</td>\n",
       "      <td>NaN</td>\n",
       "      <td>0.0</td>\n",
       "      <td>0.0</td>\n",
       "      <td>NaN</td>\n",
       "      <td>NaN</td>\n",
       "      <td>NaN</td>\n",
       "      <td>NaN</td>\n",
       "      <td>Cash</td>\n",
       "    </tr>\n",
       "  </tbody>\n",
       "</table>\n",
       "<p>4 rows × 90 columns</p>\n",
       "</div>"
      ],
      "text/plain": [
       "         Unnamed: 0  y  loan_amnt  funded_amnt  funded_amnt_inv        term  \\\n",
       "788814       788815  0       5000         5000         5000.000   36 months   \n",
       "788815       788816  1       9200         9200         9200.000   36 months   \n",
       "1068957     1068958  0      10000        10000         6592.916   36 months   \n",
       "1068958     1068959  0      10000        10000         4000.000   36 months   \n",
       "\n",
       "         int_rate  installment grade sub_grade  ... num_tl_op_past_12m  \\\n",
       "788814      14.08       171.09     C        C3  ...                4.0   \n",
       "788815       7.07       284.37     A        A2  ...              100.0   \n",
       "1068957     14.74       345.37     D        D3  ...                NaN   \n",
       "1068958     13.47       339.23     C        C4  ...                NaN   \n",
       "\n",
       "        pct_tl_nvr_dlq percent_bc_gt_75 pub_rec_bankruptcies tax_liens  \\\n",
       "788814            90.0             66.7                  0.0       0.0   \n",
       "788815             0.0              0.0                  0.0  168271.0   \n",
       "1068957            NaN              0.0                  0.0       NaN   \n",
       "1068958            NaN              NaN                  0.0       0.0   \n",
       "\n",
       "        tot_hi_cred_lim total_bal_ex_mort total_bc_limit  \\\n",
       "788814         400775.0           70401.0         7700.0   \n",
       "788815          21841.0           64200.0        14221.0   \n",
       "1068957             NaN               NaN            NaN   \n",
       "1068958             NaN               NaN            NaN   \n",
       "\n",
       "        total_il_high_credit_limit disbursement_method  \n",
       "788814                     74875.0                Cash  \n",
       "788815                         NaN                   N  \n",
       "1068957                        NaN                   N  \n",
       "1068958                        NaN                Cash  \n",
       "\n",
       "[4 rows x 90 columns]"
      ]
     },
     "execution_count": 5,
     "metadata": {},
     "output_type": "execute_result"
    }
   ],
   "source": [
    "# 查看第788815行与第1068957行数据，也把两行表现正常的数据放出来\n",
    "alldata.iloc[[788814,788815,1068957,1068958],:]"
   ]
  },
  {
   "cell_type": "code",
   "execution_count": 6,
   "metadata": {},
   "outputs": [],
   "source": [
    "alldata = alldata.drop([788815,1068957],axis=0)"
   ]
  },
  {
   "cell_type": "code",
   "execution_count": 7,
   "metadata": {},
   "outputs": [],
   "source": [
    "# 由于这两行数据的输入问题，导致变量annual_inc,delinq_2yrs,total_acc本应是定量变量，现成为定性变量\n",
    "# 我们修改这些变量的变量类型\n",
    "alldata[['delinq_2yrs']] = alldata[['delinq_2yrs']].astype(float)\n",
    "alldata[['total_acc']] = alldata[['total_acc']].astype(float)\n",
    "alldata[['annual_inc']] = alldata[['annual_inc']].astype(float)"
   ]
  },
  {
   "cell_type": "code",
   "execution_count": 8,
   "metadata": {},
   "outputs": [
    {
     "data": {
      "text/html": [
       "<div>\n",
       "<style scoped>\n",
       "    .dataframe tbody tr th:only-of-type {\n",
       "        vertical-align: middle;\n",
       "    }\n",
       "\n",
       "    .dataframe tbody tr th {\n",
       "        vertical-align: top;\n",
       "    }\n",
       "\n",
       "    .dataframe thead th {\n",
       "        text-align: right;\n",
       "    }\n",
       "</style>\n",
       "<table border=\"1\" class=\"dataframe\">\n",
       "  <thead>\n",
       "    <tr style=\"text-align: right;\">\n",
       "      <th></th>\n",
       "      <th>Unnamed: 0</th>\n",
       "      <th>loan_amnt</th>\n",
       "      <th>funded_amnt</th>\n",
       "      <th>funded_amnt_inv</th>\n",
       "      <th>term</th>\n",
       "      <th>int_rate</th>\n",
       "      <th>installment</th>\n",
       "      <th>grade</th>\n",
       "      <th>sub_grade</th>\n",
       "      <th>emp_title</th>\n",
       "      <th>...</th>\n",
       "      <th>num_tl_op_past_12m</th>\n",
       "      <th>pct_tl_nvr_dlq</th>\n",
       "      <th>percent_bc_gt_75</th>\n",
       "      <th>pub_rec_bankruptcies</th>\n",
       "      <th>tax_liens</th>\n",
       "      <th>tot_hi_cred_lim</th>\n",
       "      <th>total_bal_ex_mort</th>\n",
       "      <th>total_bc_limit</th>\n",
       "      <th>total_il_high_credit_limit</th>\n",
       "      <th>disbursement_method</th>\n",
       "    </tr>\n",
       "  </thead>\n",
       "  <tbody>\n",
       "    <tr>\n",
       "      <th>729717</th>\n",
       "      <td>729718</td>\n",
       "      <td>16000</td>\n",
       "      <td>16000</td>\n",
       "      <td>16000.0</td>\n",
       "      <td>60 months</td>\n",
       "      <td>14.08</td>\n",
       "      <td>372.96</td>\n",
       "      <td>C</td>\n",
       "      <td>C3</td>\n",
       "      <td>Sales associate</td>\n",
       "      <td>...</td>\n",
       "      <td>0.0</td>\n",
       "      <td>93.1</td>\n",
       "      <td>60.0</td>\n",
       "      <td>0.0</td>\n",
       "      <td>0.0</td>\n",
       "      <td>91145.0</td>\n",
       "      <td>68861.0</td>\n",
       "      <td>23800.0</td>\n",
       "      <td>67345.0</td>\n",
       "      <td>Cash</td>\n",
       "    </tr>\n",
       "    <tr>\n",
       "      <th>1925</th>\n",
       "      <td>1926</td>\n",
       "      <td>5000</td>\n",
       "      <td>5000</td>\n",
       "      <td>5000.0</td>\n",
       "      <td>36 months</td>\n",
       "      <td>7.02</td>\n",
       "      <td>154.44</td>\n",
       "      <td>A</td>\n",
       "      <td>A2</td>\n",
       "      <td>Custodian</td>\n",
       "      <td>...</td>\n",
       "      <td>3.0</td>\n",
       "      <td>96.8</td>\n",
       "      <td>33.3</td>\n",
       "      <td>0.0</td>\n",
       "      <td>0.0</td>\n",
       "      <td>80228.0</td>\n",
       "      <td>29078.0</td>\n",
       "      <td>11900.0</td>\n",
       "      <td>18276.0</td>\n",
       "      <td>Cash</td>\n",
       "    </tr>\n",
       "    <tr>\n",
       "      <th>230624</th>\n",
       "      <td>230625</td>\n",
       "      <td>5000</td>\n",
       "      <td>5000</td>\n",
       "      <td>5000.0</td>\n",
       "      <td>36 months</td>\n",
       "      <td>19.03</td>\n",
       "      <td>183.36</td>\n",
       "      <td>D</td>\n",
       "      <td>D3</td>\n",
       "      <td>Captain</td>\n",
       "      <td>...</td>\n",
       "      <td>3.0</td>\n",
       "      <td>100.0</td>\n",
       "      <td>100.0</td>\n",
       "      <td>0.0</td>\n",
       "      <td>0.0</td>\n",
       "      <td>326938.0</td>\n",
       "      <td>75956.0</td>\n",
       "      <td>5000.0</td>\n",
       "      <td>71995.0</td>\n",
       "      <td>Cash</td>\n",
       "    </tr>\n",
       "    <tr>\n",
       "      <th>748357</th>\n",
       "      <td>748358</td>\n",
       "      <td>30000</td>\n",
       "      <td>30000</td>\n",
       "      <td>30000.0</td>\n",
       "      <td>36 months</td>\n",
       "      <td>10.91</td>\n",
       "      <td>980.89</td>\n",
       "      <td>B</td>\n",
       "      <td>B4</td>\n",
       "      <td>After Hours Hospice Nurse</td>\n",
       "      <td>...</td>\n",
       "      <td>4.0</td>\n",
       "      <td>72.5</td>\n",
       "      <td>0.0</td>\n",
       "      <td>0.0</td>\n",
       "      <td>0.0</td>\n",
       "      <td>287151.0</td>\n",
       "      <td>90571.0</td>\n",
       "      <td>9200.0</td>\n",
       "      <td>94585.0</td>\n",
       "      <td>Cash</td>\n",
       "    </tr>\n",
       "    <tr>\n",
       "      <th>876642</th>\n",
       "      <td>876643</td>\n",
       "      <td>7225</td>\n",
       "      <td>7225</td>\n",
       "      <td>7225.0</td>\n",
       "      <td>36 months</td>\n",
       "      <td>12.35</td>\n",
       "      <td>241.19</td>\n",
       "      <td>B</td>\n",
       "      <td>B4</td>\n",
       "      <td>HUNTINGTON HILLS CENTER FOR REHAB</td>\n",
       "      <td>...</td>\n",
       "      <td>2.0</td>\n",
       "      <td>100.0</td>\n",
       "      <td>100.0</td>\n",
       "      <td>0.0</td>\n",
       "      <td>0.0</td>\n",
       "      <td>42100.0</td>\n",
       "      <td>28738.0</td>\n",
       "      <td>17500.0</td>\n",
       "      <td>4000.0</td>\n",
       "      <td>Cash</td>\n",
       "    </tr>\n",
       "  </tbody>\n",
       "</table>\n",
       "<p>5 rows × 89 columns</p>\n",
       "</div>"
      ],
      "text/plain": [
       "        Unnamed: 0  loan_amnt  funded_amnt  funded_amnt_inv        term  \\\n",
       "729717      729718      16000        16000          16000.0   60 months   \n",
       "1925          1926       5000         5000           5000.0   36 months   \n",
       "230624      230625       5000         5000           5000.0   36 months   \n",
       "748357      748358      30000        30000          30000.0   36 months   \n",
       "876642      876643       7225         7225           7225.0   36 months   \n",
       "\n",
       "        int_rate  installment grade sub_grade  \\\n",
       "729717     14.08       372.96     C        C3   \n",
       "1925        7.02       154.44     A        A2   \n",
       "230624     19.03       183.36     D        D3   \n",
       "748357     10.91       980.89     B        B4   \n",
       "876642     12.35       241.19     B        B4   \n",
       "\n",
       "                                emp_title  ... num_tl_op_past_12m  \\\n",
       "729717                   Sales associate   ...                0.0   \n",
       "1925                            Custodian  ...                3.0   \n",
       "230624                            Captain  ...                3.0   \n",
       "748357          After Hours Hospice Nurse  ...                4.0   \n",
       "876642  HUNTINGTON HILLS CENTER FOR REHAB  ...                2.0   \n",
       "\n",
       "       pct_tl_nvr_dlq  percent_bc_gt_75 pub_rec_bankruptcies tax_liens  \\\n",
       "729717           93.1              60.0                  0.0       0.0   \n",
       "1925             96.8              33.3                  0.0       0.0   \n",
       "230624          100.0             100.0                  0.0       0.0   \n",
       "748357           72.5               0.0                  0.0       0.0   \n",
       "876642          100.0             100.0                  0.0       0.0   \n",
       "\n",
       "       tot_hi_cred_lim total_bal_ex_mort total_bc_limit  \\\n",
       "729717         91145.0           68861.0        23800.0   \n",
       "1925           80228.0           29078.0        11900.0   \n",
       "230624        326938.0           75956.0         5000.0   \n",
       "748357        287151.0           90571.0         9200.0   \n",
       "876642         42100.0           28738.0        17500.0   \n",
       "\n",
       "       total_il_high_credit_limit  disbursement_method  \n",
       "729717                    67345.0                 Cash  \n",
       "1925                      18276.0                 Cash  \n",
       "230624                    71995.0                 Cash  \n",
       "748357                    94585.0                 Cash  \n",
       "876642                     4000.0                 Cash  \n",
       "\n",
       "[5 rows x 89 columns]"
      ]
     },
     "execution_count": 8,
     "metadata": {},
     "output_type": "execute_result"
    }
   ],
   "source": [
    "# 划分训练集与测试集，设置随机树种子random_state=1\n",
    "# random_state=2\n",
    "from sklearn.model_selection import train_test_split\n",
    "\n",
    "y = alldata[['y']].astype(object)\n",
    "\n",
    "X_train, X_test, y_train, y_test = train_test_split(\n",
    "    alldata.drop(['y'],axis=1),y,test_size=1/3, random_state=2,stratify=y) \n",
    "\n",
    "X_train.iloc[0:5,]"
   ]
  },
  {
   "cell_type": "markdown",
   "metadata": {},
   "source": [
    "### （二）目标变量分析"
   ]
  },
  {
   "cell_type": "code",
   "execution_count": 9,
   "metadata": {},
   "outputs": [
    {
     "name": "stdout",
     "output_type": "stream",
     "text": [
      "<class 'pandas.core.frame.DataFrame'>\n",
      "Int64Index: 753532 entries, 729717 to 336248\n",
      "Data columns (total 1 columns):\n",
      " #   Column  Non-Null Count   Dtype \n",
      "---  ------  --------------   ----- \n",
      " 0   y       753532 non-null  object\n",
      "dtypes: object(1)\n",
      "memory usage: 11.5+ MB\n"
     ]
    }
   ],
   "source": [
    "y_train.info()"
   ]
  },
  {
   "cell_type": "code",
   "execution_count": 10,
   "metadata": {},
   "outputs": [
    {
     "data": {
      "text/plain": [
       "0    0.867724\n",
       "1    0.132276\n",
       "Name: y, dtype: float64"
      ]
     },
     "execution_count": 10,
     "metadata": {},
     "output_type": "execute_result"
    }
   ],
   "source": [
    "y_train.iloc[:,0].value_counts(1)"
   ]
  },
  {
   "cell_type": "code",
   "execution_count": 11,
   "metadata": {},
   "outputs": [
    {
     "data": {
      "image/png": "[encoded data removed]",
      "text/plain": [
       "<Figure size 432x288 with 1 Axes>"
      ]
     },
     "metadata": {
      "needs_background": "light"
     },
     "output_type": "display_data"
    }
   ],
   "source": [
    "# 画y_train的分布图\n",
    "ytrainname = ('y=0 no default','y=1 in default')\n",
    "ytraincount = [653858,99674]\n",
    "\n",
    "plt.figure()\n",
    "plt.bar(ytrainname,ytraincount,color='goldenrod')\n",
    "plt.xlabel('y')\n",
    "plt.ylabel('count')\n",
    "for x, y in enumerate(ytraincount): \n",
    "    plt.text(x, y + 100, '%s' % round(y, 1), ha='center')  \n",
    "plt.title(r'Distribution of y')\n",
    "\n",
    "plt.show()"
   ]
  },
  {
   "cell_type": "markdown",
   "metadata": {},
   "source": [
    "### （三）初步筛选变量"
   ]
  },
  {
   "cell_type": "code",
   "execution_count": 12,
   "metadata": {},
   "outputs": [
    {
     "name": "stdout",
     "output_type": "stream",
     "text": [
      "<class 'pandas.core.frame.DataFrame'>\n",
      "Int64Index: 753532 entries, 729717 to 336248\n",
      "Data columns (total 89 columns):\n",
      " #   Column                      Non-Null Count   Dtype  \n",
      "---  ------                      --------------   -----  \n",
      " 0   Unnamed: 0                  753532 non-null  int64  \n",
      " 1   loan_amnt                   753532 non-null  int64  \n",
      " 2   funded_amnt                 753532 non-null  int64  \n",
      " 3   funded_amnt_inv             753532 non-null  float64\n",
      " 4   term                        753532 non-null  object \n",
      " 5   int_rate                    753532 non-null  float64\n",
      " 6   installment                 753532 non-null  float64\n",
      " 7   grade                       753532 non-null  object \n",
      " 8   sub_grade                   753532 non-null  object \n",
      " 9   emp_title                   697962 non-null  object \n",
      " 10  emp_length                  704548 non-null  object \n",
      " 11  home_ownership              753532 non-null  object \n",
      " 12  annual_inc                  753531 non-null  float64\n",
      " 13  verification_status         753532 non-null  object \n",
      " 14  pymnt_plan                  753532 non-null  object \n",
      " 15  purpose                     753532 non-null  object \n",
      " 16  title                       745800 non-null  object \n",
      " 17  zip_code                    753532 non-null  object \n",
      " 18  addr_state                  753532 non-null  object \n",
      " 19  dti                         752986 non-null  float64\n",
      " 20  delinq_2yrs                 753523 non-null  float64\n",
      " 21  earliest_cr_line            753523 non-null  object \n",
      " 22  inq_last_6mths              753523 non-null  float64\n",
      " 23  mths_since_last_record      119490 non-null  float64\n",
      " 24  open_acc                    753523 non-null  float64\n",
      " 25  pub_rec                     753523 non-null  float64\n",
      " 26  revol_bal                   753532 non-null  float64\n",
      " 27  revol_util                  752948 non-null  float64\n",
      " 28  total_acc                   753523 non-null  float64\n",
      " 29  initial_list_status         753532 non-null  object \n",
      " 30  out_prncp                   753532 non-null  float64\n",
      " 31  out_prncp_inv               753532 non-null  float64\n",
      " 32  total_pymnt                 753532 non-null  float64\n",
      " 33  total_pymnt_inv             753532 non-null  float64\n",
      " 34  total_rec_prncp             753532 non-null  float64\n",
      " 35  application_type            753532 non-null  object \n",
      " 36  annual_inc_joint            40167 non-null   float64\n",
      " 37  dti_joint                   40165 non-null   float64\n",
      " 38  tot_coll_amt                730063 non-null  float64\n",
      " 39  tot_cur_bal                 730063 non-null  float64\n",
      " 40  open_acc_6m                 464643 non-null  float64\n",
      " 41  open_act_il                 464643 non-null  float64\n",
      " 42  open_il_12m                 464643 non-null  float64\n",
      " 43  open_il_24m                 464643 non-null  float64\n",
      " 44  mths_since_rcnt_il          449968 non-null  float64\n",
      " 45  total_bal_il                464643 non-null  float64\n",
      " 46  il_util                     396890 non-null  float64\n",
      " 47  open_rv_12m                 464643 non-null  float64\n",
      " 48  open_rv_24m                 464643 non-null  float64\n",
      " 49  max_bal_bc                  464643 non-null  float64\n",
      " 50  all_util                    464576 non-null  float64\n",
      " 51  inq_fi                      464643 non-null  float64\n",
      " 52  total_cu_tl                 464643 non-null  float64\n",
      " 53  inq_last_12m                464643 non-null  float64\n",
      " 54  acc_open_past_24mths        736798 non-null  float64\n",
      " 55  avg_cur_bal                 730037 non-null  float64\n",
      " 56  bc_open_to_buy              728397 non-null  float64\n",
      " 57  bc_util                     727990 non-null  float64\n",
      " 58  chargeoff_within_12_mths    753492 non-null  float64\n",
      " 59  mo_sin_old_il_acct          707102 non-null  float64\n",
      " 60  mo_sin_old_rev_tl_op        730063 non-null  float64\n",
      " 61  mo_sin_rcnt_rev_tl_op       730063 non-null  float64\n",
      " 62  mo_sin_rcnt_tl              730063 non-null  float64\n",
      " 63  mort_acc                    736798 non-null  float64\n",
      " 64  mths_since_recent_bc        728936 non-null  float64\n",
      " 65  mths_since_recent_bc_dlq    173284 non-null  float64\n",
      " 66  mths_since_recent_inq       655101 non-null  float64\n",
      " 67  num_actv_bc_tl              730063 non-null  float64\n",
      " 68  num_actv_rev_tl             730063 non-null  float64\n",
      " 69  num_bc_sats                 733935 non-null  float64\n",
      " 70  num_bc_tl                   730063 non-null  float64\n",
      " 71  num_il_tl                   730063 non-null  float64\n",
      " 72  num_op_rev_tl               730063 non-null  float64\n",
      " 73  num_rev_accts               730063 non-null  float64\n",
      " 74  num_rev_tl_bal_gt_0         730063 non-null  float64\n",
      " 75  num_sats                    733935 non-null  float64\n",
      " 76  num_tl_120dpd_2m            702075 non-null  float64\n",
      " 77  num_tl_30dpd                730063 non-null  float64\n",
      " 78  num_tl_90g_dpd_24m          730063 non-null  float64\n",
      " 79  num_tl_op_past_12m          730063 non-null  float64\n",
      " 80  pct_tl_nvr_dlq              730017 non-null  float64\n",
      " 81  percent_bc_gt_75            728248 non-null  float64\n",
      " 82  pub_rec_bankruptcies        753072 non-null  float64\n",
      " 83  tax_liens                   753504 non-null  float64\n",
      " 84  tot_hi_cred_lim             730063 non-null  float64\n",
      " 85  total_bal_ex_mort           736798 non-null  float64\n",
      " 86  total_bc_limit              736798 non-null  float64\n",
      " 87  total_il_high_credit_limit  730063 non-null  float64\n",
      " 88  disbursement_method         753532 non-null  object \n",
      "dtypes: float64(70), int64(3), object(16)\n",
      "memory usage: 517.4+ MB\n"
     ]
    }
   ],
   "source": [
    "X_train.info()"
   ]
  },
  {
   "cell_type": "code",
   "execution_count": 13,
   "metadata": {},
   "outputs": [
    {
     "data": {
      "text/plain": [
       "n    753314\n",
       "y       218\n",
       "Name: pymnt_plan, dtype: int64"
      ]
     },
     "execution_count": 13,
     "metadata": {},
     "output_type": "execute_result"
    }
   ],
   "source": [
    "# pymnt_plan方差几乎为0\n",
    "X_train.iloc[:,14].value_counts()"
   ]
  },
  {
   "cell_type": "code",
   "execution_count": 14,
   "metadata": {},
   "outputs": [
    {
     "data": {
      "image/png": "[encoded data removed]",
      "text/plain": [
       "<Figure size 432x288 with 1 Axes>"
      ]
     },
     "metadata": {
      "needs_background": "light"
     },
     "output_type": "display_data"
    }
   ],
   "source": [
    "pymnt_plan = ('n','y')\n",
    "pymnt_plancount = [753315,217]\n",
    "\n",
    "plt.figure()\n",
    "plt.bar(pymnt_plan,pymnt_plancount,color='goldenrod')\n",
    "plt.xlabel('pymnt_plan')\n",
    "plt.ylabel('count')\n",
    "for x, y in enumerate(pymnt_plancount): \n",
    "    plt.text(x, y + 10000, '%s' % round(y, 1), ha='center')  \n",
    "plt.title(r'Distribution of pymnt_plan')\n",
    "\n",
    "plt.show()"
   ]
  },
  {
   "cell_type": "code",
   "execution_count": 15,
   "metadata": {},
   "outputs": [
    {
     "data": {
      "text/plain": [
       "C1    48761\n",
       "B4    46753\n",
       "B5    46520\n",
       "B3    43786\n",
       "C2    43509\n",
       "C3    43079\n",
       "C4    42706\n",
       "B2    41988\n",
       "B1    41811\n",
       "C5    38884\n",
       "A5    35867\n",
       "A4    32087\n",
       "A1    29003\n",
       "D1    27490\n",
       "A3    24312\n",
       "D2    24300\n",
       "A2    23189\n",
       "D3    21554\n",
       "D4    19054\n",
       "D5    15877\n",
       "E1    11108\n",
       "E2     9992\n",
       "E3     8931\n",
       "E5     7555\n",
       "E4     7494\n",
       "F1     4393\n",
       "F2     3103\n",
       "F3     2569\n",
       "F4     2135\n",
       "F5     1727\n",
       "G1     1354\n",
       "G2      883\n",
       "G3      647\n",
       "G4      576\n",
       "G5      535\n",
       "Name: sub_grade, dtype: int64"
      ]
     },
     "execution_count": 15,
     "metadata": {},
     "output_type": "execute_result"
    }
   ],
   "source": [
    "# subgrade\n",
    "X_train.iloc[:,8].value_counts()"
   ]
  },
  {
   "cell_type": "code",
   "execution_count": 16,
   "metadata": {},
   "outputs": [
    {
     "data": {
      "text/plain": [
       "Teacher                       12891\n",
       "Manager                       11380\n",
       "Owner                          7226\n",
       "Registered Nurse               5125\n",
       "Driver                         4976\n",
       "                              ...  \n",
       "Eccomerce personal shopper        1\n",
       "Truck manager                     1\n",
       "Pest control tech                 1\n",
       "Functional Trainer                1\n",
       "sugical tech/phliebotimist        1\n",
       "Name: emp_title, Length: 217161, dtype: int64"
      ]
     },
     "execution_count": 16,
     "metadata": {},
     "output_type": "execute_result"
    }
   ],
   "source": [
    "# emp_title\n",
    "X_train.iloc[:,9].value_counts()"
   ]
  },
  {
   "cell_type": "code",
   "execution_count": 17,
   "metadata": {},
   "outputs": [
    {
     "data": {
      "text/plain": [
       "945xx    8031\n",
       "750xx    7959\n",
       "112xx    7945\n",
       "606xx    7033\n",
       "300xx    6750\n",
       "         ... \n",
       "696xx       1\n",
       "643xx       1\n",
       "510xx       1\n",
       "205xx       1\n",
       "506xx       1\n",
       "Name: zip_code, Length: 916, dtype: int64"
      ]
     },
     "execution_count": 17,
     "metadata": {},
     "output_type": "execute_result"
    }
   ],
   "source": [
    "# zip_code\n",
    "X_train.iloc[:,17].value_counts()"
   ]
  },
  {
   "cell_type": "code",
   "execution_count": 18,
   "metadata": {},
   "outputs": [],
   "source": [
    "# 定义一个统计缺失值信息的函数\n",
    "def missing_values_table(df):\n",
    "    mis_val = df.isnull().sum() # 总缺失值\n",
    "    mis_val_percent = 100 * df.isnull().sum() / len(df) # 缺失值比例\n",
    "    mis_val_table = pd.concat([mis_val, mis_val_percent], axis = 1) # 缺失值制成表格\n",
    "    mis_val_table_ren_columns = mis_val_table.rename(columns = {0:'Missing Values',\n",
    "                                                               1:'% of Total Values'})\n",
    "    mis_val_table_ren_columns = mis_val_table_ren_columns[\n",
    "        mis_val_table_ren_columns.iloc[:,1] != 0].sort_values('% of Total Values',ascending=False).round(1)\n",
    "    # 缺失值比例列由大到小排序\n",
    "    \n",
    "    print('Your selected dataframe has {} columns.\\nThere are {} columns that have missing values.'.format(df.shape[1], mis_val_table_ren_columns.shape[0]))\n",
    "    # 打印缺失值信息\n",
    "    \n",
    "    return mis_val_table_ren_columns"
   ]
  },
  {
   "cell_type": "code",
   "execution_count": 19,
   "metadata": {},
   "outputs": [
    {
     "name": "stdout",
     "output_type": "stream",
     "text": [
      "Your selected dataframe has 89 columns.\n",
      "There are 65 columns that have missing values.\n"
     ]
    },
    {
     "data": {
      "text/html": [
       "<div>\n",
       "<style scoped>\n",
       "    .dataframe tbody tr th:only-of-type {\n",
       "        vertical-align: middle;\n",
       "    }\n",
       "\n",
       "    .dataframe tbody tr th {\n",
       "        vertical-align: top;\n",
       "    }\n",
       "\n",
       "    .dataframe thead th {\n",
       "        text-align: right;\n",
       "    }\n",
       "</style>\n",
       "<table border=\"1\" class=\"dataframe\">\n",
       "  <thead>\n",
       "    <tr style=\"text-align: right;\">\n",
       "      <th></th>\n",
       "      <th>Missing Values</th>\n",
       "      <th>% of Total Values</th>\n",
       "    </tr>\n",
       "  </thead>\n",
       "  <tbody>\n",
       "    <tr>\n",
       "      <th>dti_joint</th>\n",
       "      <td>713367</td>\n",
       "      <td>94.7</td>\n",
       "    </tr>\n",
       "    <tr>\n",
       "      <th>annual_inc_joint</th>\n",
       "      <td>713365</td>\n",
       "      <td>94.7</td>\n",
       "    </tr>\n",
       "    <tr>\n",
       "      <th>mths_since_last_record</th>\n",
       "      <td>634042</td>\n",
       "      <td>84.1</td>\n",
       "    </tr>\n",
       "    <tr>\n",
       "      <th>mths_since_recent_bc_dlq</th>\n",
       "      <td>580248</td>\n",
       "      <td>77.0</td>\n",
       "    </tr>\n",
       "    <tr>\n",
       "      <th>il_util</th>\n",
       "      <td>356642</td>\n",
       "      <td>47.3</td>\n",
       "    </tr>\n",
       "    <tr>\n",
       "      <th>...</th>\n",
       "      <td>...</td>\n",
       "      <td>...</td>\n",
       "    </tr>\n",
       "    <tr>\n",
       "      <th>delinq_2yrs</th>\n",
       "      <td>9</td>\n",
       "      <td>0.0</td>\n",
       "    </tr>\n",
       "    <tr>\n",
       "      <th>open_acc</th>\n",
       "      <td>9</td>\n",
       "      <td>0.0</td>\n",
       "    </tr>\n",
       "    <tr>\n",
       "      <th>inq_last_6mths</th>\n",
       "      <td>9</td>\n",
       "      <td>0.0</td>\n",
       "    </tr>\n",
       "    <tr>\n",
       "      <th>earliest_cr_line</th>\n",
       "      <td>9</td>\n",
       "      <td>0.0</td>\n",
       "    </tr>\n",
       "    <tr>\n",
       "      <th>annual_inc</th>\n",
       "      <td>1</td>\n",
       "      <td>0.0</td>\n",
       "    </tr>\n",
       "  </tbody>\n",
       "</table>\n",
       "<p>65 rows × 2 columns</p>\n",
       "</div>"
      ],
      "text/plain": [
       "                          Missing Values  % of Total Values\n",
       "dti_joint                         713367               94.7\n",
       "annual_inc_joint                  713365               94.7\n",
       "mths_since_last_record            634042               84.1\n",
       "mths_since_recent_bc_dlq          580248               77.0\n",
       "il_util                           356642               47.3\n",
       "...                                  ...                ...\n",
       "delinq_2yrs                            9                0.0\n",
       "open_acc                               9                0.0\n",
       "inq_last_6mths                         9                0.0\n",
       "earliest_cr_line                       9                0.0\n",
       "annual_inc                             1                0.0\n",
       "\n",
       "[65 rows x 2 columns]"
      ]
     },
     "execution_count": 19,
     "metadata": {},
     "output_type": "execute_result"
    }
   ],
   "source": [
    "# 训练集中自变量缺失情况\n",
    "missing_values_table(X_train)"
   ]
  },
  {
   "cell_type": "code",
   "execution_count": 20,
   "metadata": {},
   "outputs": [],
   "source": [
    "X_train = X_train.drop(['Unnamed: 0','title','earliest_cr_line','pymnt_plan',\n",
    "                  'sub_grade','emp_title','zip_code','dti_joint',\n",
    "                  'annual_inc_joint'],axis=1)\n",
    "\n",
    "X_test = X_test.drop(['Unnamed: 0','title','earliest_cr_line','pymnt_plan',\n",
    "                  'sub_grade','emp_title','zip_code','dti_joint',\n",
    "                  'annual_inc_joint'],axis=1)"
   ]
  },
  {
   "cell_type": "code",
   "execution_count": 21,
   "metadata": {},
   "outputs": [
    {
     "name": "stdout",
     "output_type": "stream",
     "text": [
      "Your selected dataframe has 80 columns.\n",
      "There are 60 columns that have missing values.\n"
     ]
    }
   ],
   "source": [
    "# 获取缺失值比例 > 90% 的列，dti_joint,annual_inc_joint\n",
    "missing_df = missing_values_table(X_train)\n",
    "missing_columns = list(missing_df[missing_df['% of Total Values'] > 90].index)\n",
    "\n",
    "# 删除缺失值比例高于90%的列\n",
    "X_train = X_train.drop(columns = list(missing_columns))\n",
    "# 在测试集中进行同样的操作\n",
    "X_test = X_test.drop(columns = list(missing_columns))"
   ]
  },
  {
   "cell_type": "markdown",
   "metadata": {},
   "source": [
    "### （四）变量取值变换"
   ]
  },
  {
   "cell_type": "code",
   "execution_count": 22,
   "metadata": {},
   "outputs": [],
   "source": [
    "# 将有序数值grade,emp_length映射为整数\n",
    "mapping_dict={\n",
    "    'emp_length':{\n",
    "        '10+ years':10,\n",
    "        '9 years':9,\n",
    "        '8 years':8,\n",
    "        '7 years':7,\n",
    "        '6 years':6,\n",
    "        '5 years':5,\n",
    "        '4 years':4,\n",
    "        '3 years':3,\n",
    "        '2 years':2,\n",
    "        '1 year':1,\n",
    "        '< 1 year':0,\n",
    "    },\n",
    "    'grade':{\n",
    "        'A':1,\n",
    "        'B':2,\n",
    "        'C':3,\n",
    "        'D':4,\n",
    "        'E':5,\n",
    "        'F':6,\n",
    "        'G':7\n",
    "    }\n",
    "}"
   ]
  },
  {
   "cell_type": "code",
   "execution_count": 23,
   "metadata": {},
   "outputs": [],
   "source": [
    "X_train = X_train.replace(mapping_dict)\n",
    "X_test = X_test.replace(mapping_dict)"
   ]
  },
  {
   "cell_type": "code",
   "execution_count": 24,
   "metadata": {},
   "outputs": [
    {
     "name": "stdout",
     "output_type": "stream",
     "text": [
      "<class 'pandas.core.frame.DataFrame'>\n",
      "Int64Index: 753532 entries, 729717 to 336248\n",
      "Data columns (total 80 columns):\n",
      " #   Column                      Non-Null Count   Dtype  \n",
      "---  ------                      --------------   -----  \n",
      " 0   loan_amnt                   753532 non-null  int64  \n",
      " 1   funded_amnt                 753532 non-null  int64  \n",
      " 2   funded_amnt_inv             753532 non-null  float64\n",
      " 3   term                        753532 non-null  object \n",
      " 4   int_rate                    753532 non-null  float64\n",
      " 5   installment                 753532 non-null  float64\n",
      " 6   grade                       753532 non-null  int64  \n",
      " 7   emp_length                  704548 non-null  float64\n",
      " 8   home_ownership              753532 non-null  object \n",
      " 9   annual_inc                  753531 non-null  float64\n",
      " 10  verification_status         753532 non-null  object \n",
      " 11  purpose                     753532 non-null  object \n",
      " 12  addr_state                  753532 non-null  object \n",
      " 13  dti                         752986 non-null  float64\n",
      " 14  delinq_2yrs                 753523 non-null  float64\n",
      " 15  inq_last_6mths              753523 non-null  float64\n",
      " 16  mths_since_last_record      119490 non-null  float64\n",
      " 17  open_acc                    753523 non-null  float64\n",
      " 18  pub_rec                     753523 non-null  float64\n",
      " 19  revol_bal                   753532 non-null  float64\n",
      " 20  revol_util                  752948 non-null  float64\n",
      " 21  total_acc                   753523 non-null  float64\n",
      " 22  initial_list_status         753532 non-null  object \n",
      " 23  out_prncp                   753532 non-null  float64\n",
      " 24  out_prncp_inv               753532 non-null  float64\n",
      " 25  total_pymnt                 753532 non-null  float64\n",
      " 26  total_pymnt_inv             753532 non-null  float64\n",
      " 27  total_rec_prncp             753532 non-null  float64\n",
      " 28  application_type            753532 non-null  object \n",
      " 29  tot_coll_amt                730063 non-null  float64\n",
      " 30  tot_cur_bal                 730063 non-null  float64\n",
      " 31  open_acc_6m                 464643 non-null  float64\n",
      " 32  open_act_il                 464643 non-null  float64\n",
      " 33  open_il_12m                 464643 non-null  float64\n",
      " 34  open_il_24m                 464643 non-null  float64\n",
      " 35  mths_since_rcnt_il          449968 non-null  float64\n",
      " 36  total_bal_il                464643 non-null  float64\n",
      " 37  il_util                     396890 non-null  float64\n",
      " 38  open_rv_12m                 464643 non-null  float64\n",
      " 39  open_rv_24m                 464643 non-null  float64\n",
      " 40  max_bal_bc                  464643 non-null  float64\n",
      " 41  all_util                    464576 non-null  float64\n",
      " 42  inq_fi                      464643 non-null  float64\n",
      " 43  total_cu_tl                 464643 non-null  float64\n",
      " 44  inq_last_12m                464643 non-null  float64\n",
      " 45  acc_open_past_24mths        736798 non-null  float64\n",
      " 46  avg_cur_bal                 730037 non-null  float64\n",
      " 47  bc_open_to_buy              728397 non-null  float64\n",
      " 48  bc_util                     727990 non-null  float64\n",
      " 49  chargeoff_within_12_mths    753492 non-null  float64\n",
      " 50  mo_sin_old_il_acct          707102 non-null  float64\n",
      " 51  mo_sin_old_rev_tl_op        730063 non-null  float64\n",
      " 52  mo_sin_rcnt_rev_tl_op       730063 non-null  float64\n",
      " 53  mo_sin_rcnt_tl              730063 non-null  float64\n",
      " 54  mort_acc                    736798 non-null  float64\n",
      " 55  mths_since_recent_bc        728936 non-null  float64\n",
      " 56  mths_since_recent_bc_dlq    173284 non-null  float64\n",
      " 57  mths_since_recent_inq       655101 non-null  float64\n",
      " 58  num_actv_bc_tl              730063 non-null  float64\n",
      " 59  num_actv_rev_tl             730063 non-null  float64\n",
      " 60  num_bc_sats                 733935 non-null  float64\n",
      " 61  num_bc_tl                   730063 non-null  float64\n",
      " 62  num_il_tl                   730063 non-null  float64\n",
      " 63  num_op_rev_tl               730063 non-null  float64\n",
      " 64  num_rev_accts               730063 non-null  float64\n",
      " 65  num_rev_tl_bal_gt_0         730063 non-null  float64\n",
      " 66  num_sats                    733935 non-null  float64\n",
      " 67  num_tl_120dpd_2m            702075 non-null  float64\n",
      " 68  num_tl_30dpd                730063 non-null  float64\n",
      " 69  num_tl_90g_dpd_24m          730063 non-null  float64\n",
      " 70  num_tl_op_past_12m          730063 non-null  float64\n",
      " 71  pct_tl_nvr_dlq              730017 non-null  float64\n",
      " 72  percent_bc_gt_75            728248 non-null  float64\n",
      " 73  pub_rec_bankruptcies        753072 non-null  float64\n",
      " 74  tax_liens                   753504 non-null  float64\n",
      " 75  tot_hi_cred_lim             730063 non-null  float64\n",
      " 76  total_bal_ex_mort           736798 non-null  float64\n",
      " 77  total_bc_limit              736798 non-null  float64\n",
      " 78  total_il_high_credit_limit  730063 non-null  float64\n",
      " 79  disbursement_method         753532 non-null  object \n",
      "dtypes: float64(69), int64(3), object(8)\n",
      "memory usage: 465.7+ MB\n"
     ]
    }
   ],
   "source": [
    "X_train.info()"
   ]
  },
  {
   "cell_type": "code",
   "execution_count": 353,
   "metadata": {},
   "outputs": [
    {
     "data": {
      "text/plain": [
       "loan_amnt                       int64\n",
       "funded_amnt                     int64\n",
       "funded_amnt_inv               float64\n",
       "term                            int64\n",
       "int_rate                      float64\n",
       "                               ...   \n",
       "tot_hi_cred_lim               float64\n",
       "total_bal_ex_mort             float64\n",
       "total_bc_limit                float64\n",
       "total_il_high_credit_limit    float64\n",
       "disbursement_method             int64\n",
       "Length: 80, dtype: object"
      ]
     },
     "execution_count": 353,
     "metadata": {},
     "output_type": "execute_result"
    }
   ],
   "source": [
    "# lighgbm模型，将字符串转化为数字\n",
    "#找出类别变量\n",
    "from sklearn.preprocessing import LabelEncoder\n",
    "categorical_features = np.where(X_train.dtypes == np.object)[0]\n",
    "class_le = LabelEncoder()\n",
    "#用class_le.fit_transform将其转换（因为y也需要转换，所以这里对整个alldata进行处理）\n",
    "for i in categorical_features:\n",
    "    X_train.iloc[:,i] = class_le.fit_transform(X_train.iloc[:,i].values)\n",
    "    X_test.iloc[:,i] = class_le.fit_transform(X_test.iloc[:,i].values)\n",
    "X_train.dtypes"
   ]
  },
  {
   "cell_type": "code",
   "execution_count": 354,
   "metadata": {},
   "outputs": [
    {
     "data": {
      "text/plain": [
       "loan_amnt                        int64\n",
       "funded_amnt                      int64\n",
       "funded_amnt_inv                float64\n",
       "term                          category\n",
       "int_rate                       float64\n",
       "                                ...   \n",
       "tot_hi_cred_lim                float64\n",
       "total_bal_ex_mort              float64\n",
       "total_bc_limit                 float64\n",
       "total_il_high_credit_limit     float64\n",
       "disbursement_method           category\n",
       "Length: 80, dtype: object"
      ]
     },
     "execution_count": 354,
     "metadata": {},
     "output_type": "execute_result"
    }
   ],
   "source": [
    "#应对定性变量类型进行设置，因为前面LabelEncoder处理后类型变为数值型了（非常重要！）   \n",
    "X_train.iloc[:,categorical_features] = X_train.iloc[:,categorical_features].astype('category')\n",
    "X_test.iloc[:,categorical_features] = X_test.iloc[:,categorical_features].astype('category')\n",
    "X_train.dtypes"
   ]
  },
  {
   "cell_type": "markdown",
   "metadata": {},
   "source": [
    "### （五）缺失值插补"
   ]
  },
  {
   "cell_type": "code",
   "execution_count": 25,
   "metadata": {},
   "outputs": [
    {
     "data": {
      "text/plain": [
       "<matplotlib.axes._subplots.AxesSubplot at 0x7fa9fa6fd940>"
      ]
     },
     "execution_count": 25,
     "metadata": {},
     "output_type": "execute_result"
    },
    {
     "data": {
      "image/png": "[encoded data removed]",
      "text/plain": [
       "<Figure size 1800x720 with 2 Axes>"
      ]
     },
     "metadata": {
      "needs_background": "light"
     },
     "output_type": "display_data"
    }
   ],
   "source": [
    "# 缺失值可视化\n",
    "import missingno as msno\n",
    "msno.matrix(X_train, labels=True)"
   ]
  },
  {
   "cell_type": "code",
   "execution_count": 26,
   "metadata": {},
   "outputs": [],
   "source": [
    "from sklearn.pipeline import Pipeline\n",
    "from sklearn.impute import SimpleImputer\n",
    "from sklearn.compose import ColumnTransformer\n",
    "\n",
    "numeric_features = np.where(X_train.dtypes != np.object)[0]\n",
    "numeric_transformer = Pipeline(steps=[\n",
    "    ('imputer', SimpleImputer(strategy='median'))])\n",
    "\n",
    "\n",
    "categorical_features = np.where(X_train.dtypes == np.object)[0]\n",
    "categorical_transformer = Pipeline(steps=[\n",
    "    ('imputer', SimpleImputer(strategy='most_frequent', fill_value='missing'))])"
   ]
  },
  {
   "cell_type": "code",
   "execution_count": 27,
   "metadata": {},
   "outputs": [],
   "source": [
    "missing_pre = ColumnTransformer(\n",
    "    transformers=[\n",
    "        ('num', numeric_transformer, numeric_features),\n",
    "        ('cat', categorical_transformer, categorical_features)])"
   ]
  },
  {
   "cell_type": "code",
   "execution_count": 28,
   "metadata": {},
   "outputs": [],
   "source": [
    "X_train_imp = pd.DataFrame(missing_pre.fit_transform(X_train))#定量变量放在前，后面为定性变量"
   ]
  },
  {
   "cell_type": "code",
   "execution_count": 29,
   "metadata": {},
   "outputs": [],
   "source": [
    "# 将缺失值插补方法应用到测试集上去\n",
    "X_test_imp = pd.DataFrame(missing_pre.fit_transform(X_test))#定量变量放在前，后面为定性变量"
   ]
  },
  {
   "cell_type": "code",
   "execution_count": 365,
   "metadata": {},
   "outputs": [],
   "source": [
    "# 重新命名变量\n",
    "X_train_imp.columns=['loan_amnt', 'funded_amnt', 'funded_amnt_inv', 'int_rate',\n",
    "       'installment', 'grade', 'emp_length','annual_inc', 'dti', 'delinq_2yrs',\n",
    "       'inq_last_6mths', 'mths_since_last_record', 'open_acc', 'pub_rec',\n",
    "       'revol_bal', 'revol_util', 'total_acc', \n",
    "       'out_prncp', 'out_prncp_inv', 'total_pymnt', 'total_pymnt_inv',\n",
    "       'total_rec_prncp',  'tot_coll_amt', 'tot_cur_bal',\n",
    "       'open_acc_6m', 'open_act_il', 'open_il_12m', 'open_il_24m',\n",
    "       'mths_since_rcnt_il', 'total_bal_il', 'il_util', 'open_rv_12m',\n",
    "       'open_rv_24m', 'max_bal_bc', 'all_util', 'inq_fi', 'total_cu_tl',\n",
    "       'inq_last_12m', 'acc_open_past_24mths', 'avg_cur_bal', 'bc_open_to_buy',\n",
    "       'bc_util', 'chargeoff_within_12_mths', 'mo_sin_old_il_acct',\n",
    "       'mo_sin_old_rev_tl_op', 'mo_sin_rcnt_rev_tl_op', 'mo_sin_rcnt_tl',\n",
    "       'mort_acc', 'mths_since_recent_bc', 'mths_since_recent_bc_dlq',\n",
    "       'mths_since_recent_inq', 'num_actv_bc_tl', 'num_actv_rev_tl',\n",
    "       'num_bc_sats', 'num_bc_tl', 'num_il_tl', 'num_op_rev_tl',\n",
    "       'num_rev_accts', 'num_rev_tl_bal_gt_0', 'num_sats', 'num_tl_120dpd_2m',\n",
    "       'num_tl_30dpd', 'num_tl_90g_dpd_24m', 'num_tl_op_past_12m',\n",
    "       'pct_tl_nvr_dlq', 'percent_bc_gt_75', 'pub_rec_bankruptcies',\n",
    "       'tax_liens', 'tot_hi_cred_lim', 'total_bal_ex_mort', 'total_bc_limit',\n",
    "       'total_il_high_credit_limit','term','home_ownership',\n",
    "       'verification_status','purpose', 'addr_state','initial_list_status',\n",
    "       'application_type','disbursement_method' ]"
   ]
  },
  {
   "cell_type": "code",
   "execution_count": 366,
   "metadata": {},
   "outputs": [],
   "source": [
    "X_test_imp.columns=X_train_imp.columns"
   ]
  },
  {
   "cell_type": "code",
   "execution_count": 370,
   "metadata": {},
   "outputs": [
    {
     "name": "stdout",
     "output_type": "stream",
     "text": [
      "<class 'pandas.core.frame.DataFrame'>\n",
      "RangeIndex: 753532 entries, 0 to 753531\n",
      "Data columns (total 80 columns):\n",
      " #   Column                      Non-Null Count   Dtype  \n",
      "---  ------                      --------------   -----  \n",
      " 0   loan_amnt                   753532 non-null  float64\n",
      " 1   funded_amnt                 753532 non-null  float64\n",
      " 2   funded_amnt_inv             753532 non-null  float64\n",
      " 3   int_rate                    753532 non-null  float64\n",
      " 4   installment                 753532 non-null  float64\n",
      " 5   grade                       753532 non-null  float64\n",
      " 6   emp_length                  753532 non-null  float64\n",
      " 7   annual_inc                  753532 non-null  float64\n",
      " 8   dti                         753532 non-null  float64\n",
      " 9   delinq_2yrs                 753532 non-null  float64\n",
      " 10  inq_last_6mths              753532 non-null  float64\n",
      " 11  mths_since_last_record      753532 non-null  float64\n",
      " 12  open_acc                    753532 non-null  float64\n",
      " 13  pub_rec                     753532 non-null  float64\n",
      " 14  revol_bal                   753532 non-null  float64\n",
      " 15  revol_util                  753532 non-null  float64\n",
      " 16  total_acc                   753532 non-null  float64\n",
      " 17  out_prncp                   753532 non-null  float64\n",
      " 18  out_prncp_inv               753532 non-null  float64\n",
      " 19  total_pymnt                 753532 non-null  float64\n",
      " 20  total_pymnt_inv             753532 non-null  float64\n",
      " 21  total_rec_prncp             753532 non-null  float64\n",
      " 22  tot_coll_amt                753532 non-null  float64\n",
      " 23  tot_cur_bal                 753532 non-null  float64\n",
      " 24  open_acc_6m                 753532 non-null  float64\n",
      " 25  open_act_il                 753532 non-null  float64\n",
      " 26  open_il_12m                 753532 non-null  float64\n",
      " 27  open_il_24m                 753532 non-null  float64\n",
      " 28  mths_since_rcnt_il          753532 non-null  float64\n",
      " 29  total_bal_il                753532 non-null  float64\n",
      " 30  il_util                     753532 non-null  float64\n",
      " 31  open_rv_12m                 753532 non-null  float64\n",
      " 32  open_rv_24m                 753532 non-null  float64\n",
      " 33  max_bal_bc                  753532 non-null  float64\n",
      " 34  all_util                    753532 non-null  float64\n",
      " 35  inq_fi                      753532 non-null  float64\n",
      " 36  total_cu_tl                 753532 non-null  float64\n",
      " 37  inq_last_12m                753532 non-null  float64\n",
      " 38  acc_open_past_24mths        753532 non-null  float64\n",
      " 39  avg_cur_bal                 753532 non-null  float64\n",
      " 40  bc_open_to_buy              753532 non-null  float64\n",
      " 41  bc_util                     753532 non-null  float64\n",
      " 42  chargeoff_within_12_mths    753532 non-null  float64\n",
      " 43  mo_sin_old_il_acct          753532 non-null  float64\n",
      " 44  mo_sin_old_rev_tl_op        753532 non-null  float64\n",
      " 45  mo_sin_rcnt_rev_tl_op       753532 non-null  float64\n",
      " 46  mo_sin_rcnt_tl              753532 non-null  float64\n",
      " 47  mort_acc                    753532 non-null  float64\n",
      " 48  mths_since_recent_bc        753532 non-null  float64\n",
      " 49  mths_since_recent_bc_dlq    753532 non-null  float64\n",
      " 50  mths_since_recent_inq       753532 non-null  float64\n",
      " 51  num_actv_bc_tl              753532 non-null  float64\n",
      " 52  num_actv_rev_tl             753532 non-null  float64\n",
      " 53  num_bc_sats                 753532 non-null  float64\n",
      " 54  num_bc_tl                   753532 non-null  float64\n",
      " 55  num_il_tl                   753532 non-null  float64\n",
      " 56  num_op_rev_tl               753532 non-null  float64\n",
      " 57  num_rev_accts               753532 non-null  float64\n",
      " 58  num_rev_tl_bal_gt_0         753532 non-null  float64\n",
      " 59  num_sats                    753532 non-null  float64\n",
      " 60  num_tl_120dpd_2m            753532 non-null  float64\n",
      " 61  num_tl_30dpd                753532 non-null  float64\n",
      " 62  num_tl_90g_dpd_24m          753532 non-null  float64\n",
      " 63  num_tl_op_past_12m          753532 non-null  float64\n",
      " 64  pct_tl_nvr_dlq              753532 non-null  float64\n",
      " 65  percent_bc_gt_75            753532 non-null  float64\n",
      " 66  pub_rec_bankruptcies        753532 non-null  float64\n",
      " 67  tax_liens                   753532 non-null  float64\n",
      " 68  tot_hi_cred_lim             753532 non-null  float64\n",
      " 69  total_bal_ex_mort           753532 non-null  float64\n",
      " 70  total_bc_limit              753532 non-null  float64\n",
      " 71  total_il_high_credit_limit  753532 non-null  float64\n",
      " 72  term                        753532 non-null  float64\n",
      " 73  home_ownership              753532 non-null  float64\n",
      " 74  verification_status         753532 non-null  float64\n",
      " 75  purpose                     753532 non-null  float64\n",
      " 76  addr_state                  753532 non-null  float64\n",
      " 77  initial_list_status         753532 non-null  float64\n",
      " 78  application_type            753532 non-null  float64\n",
      " 79  disbursement_method         753532 non-null  float64\n",
      "dtypes: float64(80)\n",
      "memory usage: 459.9 MB\n"
     ]
    }
   ],
   "source": [
    "X_train_imp.info()"
   ]
  },
  {
   "cell_type": "code",
   "execution_count": 377,
   "metadata": {},
   "outputs": [
    {
     "data": {
      "text/html": [
       "<div>\n",
       "<style scoped>\n",
       "    .dataframe tbody tr th:only-of-type {\n",
       "        vertical-align: middle;\n",
       "    }\n",
       "\n",
       "    .dataframe tbody tr th {\n",
       "        vertical-align: top;\n",
       "    }\n",
       "\n",
       "    .dataframe thead th {\n",
       "        text-align: right;\n",
       "    }\n",
       "</style>\n",
       "<table border=\"1\" class=\"dataframe\">\n",
       "  <thead>\n",
       "    <tr style=\"text-align: right;\">\n",
       "      <th></th>\n",
       "      <th>loan_amnt</th>\n",
       "      <th>funded_amnt</th>\n",
       "      <th>funded_amnt_inv</th>\n",
       "      <th>int_rate</th>\n",
       "      <th>installment</th>\n",
       "      <th>grade</th>\n",
       "      <th>emp_length</th>\n",
       "      <th>annual_inc</th>\n",
       "      <th>dti</th>\n",
       "      <th>delinq_2yrs</th>\n",
       "      <th>...</th>\n",
       "      <th>total_bc_limit</th>\n",
       "      <th>total_il_high_credit_limit</th>\n",
       "      <th>term</th>\n",
       "      <th>home_ownership</th>\n",
       "      <th>verification_status</th>\n",
       "      <th>purpose</th>\n",
       "      <th>addr_state</th>\n",
       "      <th>initial_list_status</th>\n",
       "      <th>application_type</th>\n",
       "      <th>disbursement_method</th>\n",
       "    </tr>\n",
       "  </thead>\n",
       "  <tbody>\n",
       "    <tr>\n",
       "      <th>0</th>\n",
       "      <td>16000.0</td>\n",
       "      <td>16000.0</td>\n",
       "      <td>16000.0</td>\n",
       "      <td>1.0</td>\n",
       "      <td>14.08</td>\n",
       "      <td>372.96</td>\n",
       "      <td>3.0</td>\n",
       "      <td>7.0</td>\n",
       "      <td>4.0</td>\n",
       "      <td>56000.0</td>\n",
       "      <td>...</td>\n",
       "      <td>0.0</td>\n",
       "      <td>93.1</td>\n",
       "      <td>60.0</td>\n",
       "      <td>0.0</td>\n",
       "      <td>0.0</td>\n",
       "      <td>91145.0</td>\n",
       "      <td>68861.0</td>\n",
       "      <td>23800.0</td>\n",
       "      <td>67345.0</td>\n",
       "      <td>0.0</td>\n",
       "    </tr>\n",
       "    <tr>\n",
       "      <th>1</th>\n",
       "      <td>5000.0</td>\n",
       "      <td>5000.0</td>\n",
       "      <td>5000.0</td>\n",
       "      <td>0.0</td>\n",
       "      <td>7.02</td>\n",
       "      <td>154.44</td>\n",
       "      <td>1.0</td>\n",
       "      <td>10.0</td>\n",
       "      <td>1.0</td>\n",
       "      <td>58000.0</td>\n",
       "      <td>...</td>\n",
       "      <td>3.0</td>\n",
       "      <td>96.8</td>\n",
       "      <td>33.3</td>\n",
       "      <td>0.0</td>\n",
       "      <td>0.0</td>\n",
       "      <td>80228.0</td>\n",
       "      <td>29078.0</td>\n",
       "      <td>11900.0</td>\n",
       "      <td>18276.0</td>\n",
       "      <td>0.0</td>\n",
       "    </tr>\n",
       "    <tr>\n",
       "      <th>2</th>\n",
       "      <td>5000.0</td>\n",
       "      <td>5000.0</td>\n",
       "      <td>5000.0</td>\n",
       "      <td>0.0</td>\n",
       "      <td>19.03</td>\n",
       "      <td>183.36</td>\n",
       "      <td>4.0</td>\n",
       "      <td>6.0</td>\n",
       "      <td>1.0</td>\n",
       "      <td>120000.0</td>\n",
       "      <td>...</td>\n",
       "      <td>3.0</td>\n",
       "      <td>100.0</td>\n",
       "      <td>100.0</td>\n",
       "      <td>0.0</td>\n",
       "      <td>0.0</td>\n",
       "      <td>326938.0</td>\n",
       "      <td>75956.0</td>\n",
       "      <td>5000.0</td>\n",
       "      <td>71995.0</td>\n",
       "      <td>0.0</td>\n",
       "    </tr>\n",
       "    <tr>\n",
       "      <th>3</th>\n",
       "      <td>30000.0</td>\n",
       "      <td>30000.0</td>\n",
       "      <td>30000.0</td>\n",
       "      <td>0.0</td>\n",
       "      <td>10.91</td>\n",
       "      <td>980.89</td>\n",
       "      <td>2.0</td>\n",
       "      <td>7.0</td>\n",
       "      <td>1.0</td>\n",
       "      <td>98000.0</td>\n",
       "      <td>...</td>\n",
       "      <td>4.0</td>\n",
       "      <td>72.5</td>\n",
       "      <td>0.0</td>\n",
       "      <td>0.0</td>\n",
       "      <td>0.0</td>\n",
       "      <td>287151.0</td>\n",
       "      <td>90571.0</td>\n",
       "      <td>9200.0</td>\n",
       "      <td>94585.0</td>\n",
       "      <td>0.0</td>\n",
       "    </tr>\n",
       "    <tr>\n",
       "      <th>4</th>\n",
       "      <td>7225.0</td>\n",
       "      <td>7225.0</td>\n",
       "      <td>7225.0</td>\n",
       "      <td>0.0</td>\n",
       "      <td>12.35</td>\n",
       "      <td>241.19</td>\n",
       "      <td>2.0</td>\n",
       "      <td>7.0</td>\n",
       "      <td>4.0</td>\n",
       "      <td>41000.0</td>\n",
       "      <td>...</td>\n",
       "      <td>2.0</td>\n",
       "      <td>100.0</td>\n",
       "      <td>100.0</td>\n",
       "      <td>0.0</td>\n",
       "      <td>0.0</td>\n",
       "      <td>42100.0</td>\n",
       "      <td>28738.0</td>\n",
       "      <td>17500.0</td>\n",
       "      <td>4000.0</td>\n",
       "      <td>0.0</td>\n",
       "    </tr>\n",
       "  </tbody>\n",
       "</table>\n",
       "<p>5 rows × 80 columns</p>\n",
       "</div>"
      ],
      "text/plain": [
       "   loan_amnt  funded_amnt  funded_amnt_inv  int_rate  installment   grade  \\\n",
       "0    16000.0      16000.0          16000.0       1.0        14.08  372.96   \n",
       "1     5000.0       5000.0           5000.0       0.0         7.02  154.44   \n",
       "2     5000.0       5000.0           5000.0       0.0        19.03  183.36   \n",
       "3    30000.0      30000.0          30000.0       0.0        10.91  980.89   \n",
       "4     7225.0       7225.0           7225.0       0.0        12.35  241.19   \n",
       "\n",
       "   emp_length  annual_inc  dti  delinq_2yrs  ...  total_bc_limit  \\\n",
       "0         3.0         7.0  4.0      56000.0  ...             0.0   \n",
       "1         1.0        10.0  1.0      58000.0  ...             3.0   \n",
       "2         4.0         6.0  1.0     120000.0  ...             3.0   \n",
       "3         2.0         7.0  1.0      98000.0  ...             4.0   \n",
       "4         2.0         7.0  4.0      41000.0  ...             2.0   \n",
       "\n",
       "   total_il_high_credit_limit   term  home_ownership  verification_status  \\\n",
       "0                        93.1   60.0             0.0                  0.0   \n",
       "1                        96.8   33.3             0.0                  0.0   \n",
       "2                       100.0  100.0             0.0                  0.0   \n",
       "3                        72.5    0.0             0.0                  0.0   \n",
       "4                       100.0  100.0             0.0                  0.0   \n",
       "\n",
       "    purpose  addr_state  initial_list_status  application_type  \\\n",
       "0   91145.0     68861.0              23800.0           67345.0   \n",
       "1   80228.0     29078.0              11900.0           18276.0   \n",
       "2  326938.0     75956.0               5000.0           71995.0   \n",
       "3  287151.0     90571.0               9200.0           94585.0   \n",
       "4   42100.0     28738.0              17500.0            4000.0   \n",
       "\n",
       "   disbursement_method  \n",
       "0                  0.0  \n",
       "1                  0.0  \n",
       "2                  0.0  \n",
       "3                  0.0  \n",
       "4                  0.0  \n",
       "\n",
       "[5 rows x 80 columns]"
      ]
     },
     "execution_count": 377,
     "metadata": {},
     "output_type": "execute_result"
    }
   ],
   "source": [
    "# 变量的类型也发生了变化，我们调整过来\n",
    "for i in range(0,72):\n",
    "    X_train_imp.iloc[:,i] = X_train_imp.iloc[:,i].astype(float)\n",
    "    X_test_imp.iloc[:,i] = X_test_imp.iloc[:,i].astype(float)\n",
    "X_train_imp.head()"
   ]
  },
  {
   "cell_type": "code",
   "execution_count": 378,
   "metadata": {},
   "outputs": [
    {
     "name": "stdout",
     "output_type": "stream",
     "text": [
      "<class 'pandas.core.frame.DataFrame'>\n",
      "RangeIndex: 753532 entries, 0 to 753531\n",
      "Data columns (total 80 columns):\n",
      " #   Column                      Non-Null Count   Dtype  \n",
      "---  ------                      --------------   -----  \n",
      " 0   loan_amnt                   753532 non-null  float64\n",
      " 1   funded_amnt                 753532 non-null  float64\n",
      " 2   funded_amnt_inv             753532 non-null  float64\n",
      " 3   int_rate                    753532 non-null  float64\n",
      " 4   installment                 753532 non-null  float64\n",
      " 5   grade                       753532 non-null  float64\n",
      " 6   emp_length                  753532 non-null  float64\n",
      " 7   annual_inc                  753532 non-null  float64\n",
      " 8   dti                         753532 non-null  float64\n",
      " 9   delinq_2yrs                 753532 non-null  float64\n",
      " 10  inq_last_6mths              753532 non-null  float64\n",
      " 11  mths_since_last_record      753532 non-null  float64\n",
      " 12  open_acc                    753532 non-null  float64\n",
      " 13  pub_rec                     753532 non-null  float64\n",
      " 14  revol_bal                   753532 non-null  float64\n",
      " 15  revol_util                  753532 non-null  float64\n",
      " 16  total_acc                   753532 non-null  float64\n",
      " 17  out_prncp                   753532 non-null  float64\n",
      " 18  out_prncp_inv               753532 non-null  float64\n",
      " 19  total_pymnt                 753532 non-null  float64\n",
      " 20  total_pymnt_inv             753532 non-null  float64\n",
      " 21  total_rec_prncp             753532 non-null  float64\n",
      " 22  tot_coll_amt                753532 non-null  float64\n",
      " 23  tot_cur_bal                 753532 non-null  float64\n",
      " 24  open_acc_6m                 753532 non-null  float64\n",
      " 25  open_act_il                 753532 non-null  float64\n",
      " 26  open_il_12m                 753532 non-null  float64\n",
      " 27  open_il_24m                 753532 non-null  float64\n",
      " 28  mths_since_rcnt_il          753532 non-null  float64\n",
      " 29  total_bal_il                753532 non-null  float64\n",
      " 30  il_util                     753532 non-null  float64\n",
      " 31  open_rv_12m                 753532 non-null  float64\n",
      " 32  open_rv_24m                 753532 non-null  float64\n",
      " 33  max_bal_bc                  753532 non-null  float64\n",
      " 34  all_util                    753532 non-null  float64\n",
      " 35  inq_fi                      753532 non-null  float64\n",
      " 36  total_cu_tl                 753532 non-null  float64\n",
      " 37  inq_last_12m                753532 non-null  float64\n",
      " 38  acc_open_past_24mths        753532 non-null  float64\n",
      " 39  avg_cur_bal                 753532 non-null  float64\n",
      " 40  bc_open_to_buy              753532 non-null  float64\n",
      " 41  bc_util                     753532 non-null  float64\n",
      " 42  chargeoff_within_12_mths    753532 non-null  float64\n",
      " 43  mo_sin_old_il_acct          753532 non-null  float64\n",
      " 44  mo_sin_old_rev_tl_op        753532 non-null  float64\n",
      " 45  mo_sin_rcnt_rev_tl_op       753532 non-null  float64\n",
      " 46  mo_sin_rcnt_tl              753532 non-null  float64\n",
      " 47  mort_acc                    753532 non-null  float64\n",
      " 48  mths_since_recent_bc        753532 non-null  float64\n",
      " 49  mths_since_recent_bc_dlq    753532 non-null  float64\n",
      " 50  mths_since_recent_inq       753532 non-null  float64\n",
      " 51  num_actv_bc_tl              753532 non-null  float64\n",
      " 52  num_actv_rev_tl             753532 non-null  float64\n",
      " 53  num_bc_sats                 753532 non-null  float64\n",
      " 54  num_bc_tl                   753532 non-null  float64\n",
      " 55  num_il_tl                   753532 non-null  float64\n",
      " 56  num_op_rev_tl               753532 non-null  float64\n",
      " 57  num_rev_accts               753532 non-null  float64\n",
      " 58  num_rev_tl_bal_gt_0         753532 non-null  float64\n",
      " 59  num_sats                    753532 non-null  float64\n",
      " 60  num_tl_120dpd_2m            753532 non-null  float64\n",
      " 61  num_tl_30dpd                753532 non-null  float64\n",
      " 62  num_tl_90g_dpd_24m          753532 non-null  float64\n",
      " 63  num_tl_op_past_12m          753532 non-null  float64\n",
      " 64  pct_tl_nvr_dlq              753532 non-null  float64\n",
      " 65  percent_bc_gt_75            753532 non-null  float64\n",
      " 66  pub_rec_bankruptcies        753532 non-null  float64\n",
      " 67  tax_liens                   753532 non-null  float64\n",
      " 68  tot_hi_cred_lim             753532 non-null  float64\n",
      " 69  total_bal_ex_mort           753532 non-null  float64\n",
      " 70  total_bc_limit              753532 non-null  float64\n",
      " 71  total_il_high_credit_limit  753532 non-null  float64\n",
      " 72  term                        753532 non-null  float64\n",
      " 73  home_ownership              753532 non-null  float64\n",
      " 74  verification_status         753532 non-null  float64\n",
      " 75  purpose                     753532 non-null  float64\n",
      " 76  addr_state                  753532 non-null  float64\n",
      " 77  initial_list_status         753532 non-null  float64\n",
      " 78  application_type            753532 non-null  float64\n",
      " 79  disbursement_method         753532 non-null  float64\n",
      "dtypes: float64(80)\n",
      "memory usage: 459.9 MB\n"
     ]
    }
   ],
   "source": [
    "X_train_imp.info()"
   ]
  },
  {
   "cell_type": "code",
   "execution_count": null,
   "metadata": {},
   "outputs": [],
   "source": [
    "for i in [72,73,74,75,76,77,78,79,80]:\n",
    "    X_train_imp.iloc[:,i] = X_train_imp.iloc[:,i].astype(object)\n",
    "    X_test_imp.iloc[:,i] = X_test_imp.iloc[:,i].astype(object)\n",
    "X_train_imp.head()"
   ]
  },
  {
   "cell_type": "markdown",
   "metadata": {},
   "source": [
    "### （六）构造虚拟变量"
   ]
  },
  {
   "cell_type": "code",
   "execution_count": 369,
   "metadata": {},
   "outputs": [
    {
     "data": {
      "text/plain": [
       "array([], dtype=int64)"
      ]
     },
     "execution_count": 369,
     "metadata": {},
     "output_type": "execute_result"
    }
   ],
   "source": [
    "# 采用独热编码\n",
    "from sklearn.preprocessing import OneHotEncoder\n",
    "onehot = OneHotEncoder(handle_unknown='ignore') \n",
    "#获得定性变量所在列号\n",
    "categorical_features = np.where(X_train_imp.dtypes == np.object)[0] \n",
    "categorical_features"
   ]
  },
  {
   "cell_type": "code",
   "execution_count": 137,
   "metadata": {},
   "outputs": [],
   "source": [
    "X_train_cat_onehot = pd.DataFrame(onehot.fit_transform(X_train_imp.iloc[:,categorical_features]).toarray()) \n",
    "#必须加上.toarray()转化为矩阵"
   ]
  },
  {
   "cell_type": "code",
   "execution_count": 141,
   "metadata": {},
   "outputs": [],
   "source": [
    "# 应用于测试集\n",
    "X_test_cat_onehot = pd.DataFrame(onehot.transform(X_test_imp.iloc[:,categorical_features]).toarray())"
   ]
  },
  {
   "cell_type": "code",
   "execution_count": 144,
   "metadata": {},
   "outputs": [
    {
     "name": "stdout",
     "output_type": "stream",
     "text": [
      "<class 'pandas.core.frame.DataFrame'>\n",
      "RangeIndex: 753532 entries, 0 to 753531\n",
      "Columns: 154 entries, loan_amnt to disbursement_method_DirectPay\n",
      "dtypes: float64(72), uint8(82)\n",
      "memory usage: 472.9 MB\n"
     ]
    }
   ],
   "source": [
    "# 借用get_dummies编码后的变量\n",
    "X_train_dum = pd.get_dummies(X_train_imp)"
   ]
  },
  {
   "cell_type": "code",
   "execution_count": 150,
   "metadata": {},
   "outputs": [
    {
     "data": {
      "text/html": [
       "<div>\n",
       "<style scoped>\n",
       "    .dataframe tbody tr th:only-of-type {\n",
       "        vertical-align: middle;\n",
       "    }\n",
       "\n",
       "    .dataframe tbody tr th {\n",
       "        vertical-align: top;\n",
       "    }\n",
       "\n",
       "    .dataframe thead th {\n",
       "        text-align: right;\n",
       "    }\n",
       "</style>\n",
       "<table border=\"1\" class=\"dataframe\">\n",
       "  <thead>\n",
       "    <tr style=\"text-align: right;\">\n",
       "      <th></th>\n",
       "      <th>term_ 36 months</th>\n",
       "      <th>term_ 60 months</th>\n",
       "      <th>home_ownership_ANY</th>\n",
       "      <th>home_ownership_MORTGAGE</th>\n",
       "      <th>home_ownership_NONE</th>\n",
       "      <th>home_ownership_OTHER</th>\n",
       "      <th>home_ownership_OWN</th>\n",
       "      <th>home_ownership_RENT</th>\n",
       "      <th>verification_status_Not Verified</th>\n",
       "      <th>verification_status_Source Verified</th>\n",
       "      <th>...</th>\n",
       "      <th>addr_state_WA</th>\n",
       "      <th>addr_state_WI</th>\n",
       "      <th>addr_state_WV</th>\n",
       "      <th>addr_state_WY</th>\n",
       "      <th>initial_list_status_f</th>\n",
       "      <th>initial_list_status_w</th>\n",
       "      <th>application_type_Individual</th>\n",
       "      <th>application_type_Joint App</th>\n",
       "      <th>disbursement_method_Cash</th>\n",
       "      <th>disbursement_method_DirectPay</th>\n",
       "    </tr>\n",
       "  </thead>\n",
       "  <tbody>\n",
       "    <tr>\n",
       "      <th>0</th>\n",
       "      <td>0.0</td>\n",
       "      <td>1.0</td>\n",
       "      <td>0.0</td>\n",
       "      <td>0.0</td>\n",
       "      <td>0.0</td>\n",
       "      <td>0.0</td>\n",
       "      <td>0.0</td>\n",
       "      <td>1.0</td>\n",
       "      <td>0.0</td>\n",
       "      <td>0.0</td>\n",
       "      <td>...</td>\n",
       "      <td>0.0</td>\n",
       "      <td>0.0</td>\n",
       "      <td>0.0</td>\n",
       "      <td>0.0</td>\n",
       "      <td>0.0</td>\n",
       "      <td>1.0</td>\n",
       "      <td>1.0</td>\n",
       "      <td>0.0</td>\n",
       "      <td>1.0</td>\n",
       "      <td>0.0</td>\n",
       "    </tr>\n",
       "    <tr>\n",
       "      <th>1</th>\n",
       "      <td>1.0</td>\n",
       "      <td>0.0</td>\n",
       "      <td>0.0</td>\n",
       "      <td>0.0</td>\n",
       "      <td>0.0</td>\n",
       "      <td>0.0</td>\n",
       "      <td>0.0</td>\n",
       "      <td>1.0</td>\n",
       "      <td>1.0</td>\n",
       "      <td>0.0</td>\n",
       "      <td>...</td>\n",
       "      <td>0.0</td>\n",
       "      <td>0.0</td>\n",
       "      <td>0.0</td>\n",
       "      <td>0.0</td>\n",
       "      <td>1.0</td>\n",
       "      <td>0.0</td>\n",
       "      <td>1.0</td>\n",
       "      <td>0.0</td>\n",
       "      <td>1.0</td>\n",
       "      <td>0.0</td>\n",
       "    </tr>\n",
       "    <tr>\n",
       "      <th>2</th>\n",
       "      <td>0.0</td>\n",
       "      <td>1.0</td>\n",
       "      <td>0.0</td>\n",
       "      <td>0.0</td>\n",
       "      <td>0.0</td>\n",
       "      <td>0.0</td>\n",
       "      <td>1.0</td>\n",
       "      <td>0.0</td>\n",
       "      <td>1.0</td>\n",
       "      <td>0.0</td>\n",
       "      <td>...</td>\n",
       "      <td>0.0</td>\n",
       "      <td>0.0</td>\n",
       "      <td>0.0</td>\n",
       "      <td>0.0</td>\n",
       "      <td>0.0</td>\n",
       "      <td>1.0</td>\n",
       "      <td>1.0</td>\n",
       "      <td>0.0</td>\n",
       "      <td>1.0</td>\n",
       "      <td>0.0</td>\n",
       "    </tr>\n",
       "    <tr>\n",
       "      <th>3</th>\n",
       "      <td>1.0</td>\n",
       "      <td>0.0</td>\n",
       "      <td>0.0</td>\n",
       "      <td>0.0</td>\n",
       "      <td>0.0</td>\n",
       "      <td>0.0</td>\n",
       "      <td>1.0</td>\n",
       "      <td>0.0</td>\n",
       "      <td>0.0</td>\n",
       "      <td>0.0</td>\n",
       "      <td>...</td>\n",
       "      <td>0.0</td>\n",
       "      <td>0.0</td>\n",
       "      <td>0.0</td>\n",
       "      <td>0.0</td>\n",
       "      <td>1.0</td>\n",
       "      <td>0.0</td>\n",
       "      <td>1.0</td>\n",
       "      <td>0.0</td>\n",
       "      <td>1.0</td>\n",
       "      <td>0.0</td>\n",
       "    </tr>\n",
       "    <tr>\n",
       "      <th>4</th>\n",
       "      <td>1.0</td>\n",
       "      <td>0.0</td>\n",
       "      <td>0.0</td>\n",
       "      <td>0.0</td>\n",
       "      <td>0.0</td>\n",
       "      <td>0.0</td>\n",
       "      <td>0.0</td>\n",
       "      <td>1.0</td>\n",
       "      <td>0.0</td>\n",
       "      <td>1.0</td>\n",
       "      <td>...</td>\n",
       "      <td>0.0</td>\n",
       "      <td>0.0</td>\n",
       "      <td>0.0</td>\n",
       "      <td>0.0</td>\n",
       "      <td>0.0</td>\n",
       "      <td>1.0</td>\n",
       "      <td>1.0</td>\n",
       "      <td>0.0</td>\n",
       "      <td>1.0</td>\n",
       "      <td>0.0</td>\n",
       "    </tr>\n",
       "  </tbody>\n",
       "</table>\n",
       "<p>5 rows × 82 columns</p>\n",
       "</div>"
      ],
      "text/plain": [
       "   term_ 36 months  term_ 60 months  home_ownership_ANY  \\\n",
       "0              0.0              1.0                 0.0   \n",
       "1              1.0              0.0                 0.0   \n",
       "2              0.0              1.0                 0.0   \n",
       "3              1.0              0.0                 0.0   \n",
       "4              1.0              0.0                 0.0   \n",
       "\n",
       "   home_ownership_MORTGAGE  home_ownership_NONE  home_ownership_OTHER  \\\n",
       "0                      0.0                  0.0                   0.0   \n",
       "1                      0.0                  0.0                   0.0   \n",
       "2                      0.0                  0.0                   0.0   \n",
       "3                      0.0                  0.0                   0.0   \n",
       "4                      0.0                  0.0                   0.0   \n",
       "\n",
       "   home_ownership_OWN  home_ownership_RENT  verification_status_Not Verified  \\\n",
       "0                 0.0                  1.0                               0.0   \n",
       "1                 0.0                  1.0                               1.0   \n",
       "2                 1.0                  0.0                               1.0   \n",
       "3                 1.0                  0.0                               0.0   \n",
       "4                 0.0                  1.0                               0.0   \n",
       "\n",
       "   verification_status_Source Verified  ...  addr_state_WA  addr_state_WI  \\\n",
       "0                                  0.0  ...            0.0            0.0   \n",
       "1                                  0.0  ...            0.0            0.0   \n",
       "2                                  0.0  ...            0.0            0.0   \n",
       "3                                  0.0  ...            0.0            0.0   \n",
       "4                                  1.0  ...            0.0            0.0   \n",
       "\n",
       "   addr_state_WV  addr_state_WY  initial_list_status_f  initial_list_status_w  \\\n",
       "0            0.0            0.0                    0.0                    1.0   \n",
       "1            0.0            0.0                    1.0                    0.0   \n",
       "2            0.0            0.0                    0.0                    1.0   \n",
       "3            0.0            0.0                    1.0                    0.0   \n",
       "4            0.0            0.0                    0.0                    1.0   \n",
       "\n",
       "   application_type_Individual  application_type_Joint App  \\\n",
       "0                          1.0                         0.0   \n",
       "1                          1.0                         0.0   \n",
       "2                          1.0                         0.0   \n",
       "3                          1.0                         0.0   \n",
       "4                          1.0                         0.0   \n",
       "\n",
       "   disbursement_method_Cash  disbursement_method_DirectPay  \n",
       "0                       1.0                            0.0  \n",
       "1                       1.0                            0.0  \n",
       "2                       1.0                            0.0  \n",
       "3                       1.0                            0.0  \n",
       "4                       1.0                            0.0  \n",
       "\n",
       "[5 rows x 82 columns]"
      ]
     },
     "execution_count": 150,
     "metadata": {},
     "output_type": "execute_result"
    }
   ],
   "source": [
    "#倒是可以借用get_dummies中的变量名\n",
    "X_train_cat_onehot.columns = X_train_dum.columns[72:]\n",
    "X_train_cat_onehot.head()"
   ]
  },
  {
   "cell_type": "code",
   "execution_count": 151,
   "metadata": {},
   "outputs": [
    {
     "data": {
      "text/html": [
       "<div>\n",
       "<style scoped>\n",
       "    .dataframe tbody tr th:only-of-type {\n",
       "        vertical-align: middle;\n",
       "    }\n",
       "\n",
       "    .dataframe tbody tr th {\n",
       "        vertical-align: top;\n",
       "    }\n",
       "\n",
       "    .dataframe thead th {\n",
       "        text-align: right;\n",
       "    }\n",
       "</style>\n",
       "<table border=\"1\" class=\"dataframe\">\n",
       "  <thead>\n",
       "    <tr style=\"text-align: right;\">\n",
       "      <th></th>\n",
       "      <th>term_ 36 months</th>\n",
       "      <th>term_ 60 months</th>\n",
       "      <th>home_ownership_ANY</th>\n",
       "      <th>home_ownership_MORTGAGE</th>\n",
       "      <th>home_ownership_NONE</th>\n",
       "      <th>home_ownership_OTHER</th>\n",
       "      <th>home_ownership_OWN</th>\n",
       "      <th>home_ownership_RENT</th>\n",
       "      <th>verification_status_Not Verified</th>\n",
       "      <th>verification_status_Source Verified</th>\n",
       "      <th>...</th>\n",
       "      <th>addr_state_WA</th>\n",
       "      <th>addr_state_WI</th>\n",
       "      <th>addr_state_WV</th>\n",
       "      <th>addr_state_WY</th>\n",
       "      <th>initial_list_status_f</th>\n",
       "      <th>initial_list_status_w</th>\n",
       "      <th>application_type_Individual</th>\n",
       "      <th>application_type_Joint App</th>\n",
       "      <th>disbursement_method_Cash</th>\n",
       "      <th>disbursement_method_DirectPay</th>\n",
       "    </tr>\n",
       "  </thead>\n",
       "  <tbody>\n",
       "    <tr>\n",
       "      <th>0</th>\n",
       "      <td>0.0</td>\n",
       "      <td>1.0</td>\n",
       "      <td>0.0</td>\n",
       "      <td>1.0</td>\n",
       "      <td>0.0</td>\n",
       "      <td>0.0</td>\n",
       "      <td>0.0</td>\n",
       "      <td>0.0</td>\n",
       "      <td>0.0</td>\n",
       "      <td>1.0</td>\n",
       "      <td>...</td>\n",
       "      <td>0.0</td>\n",
       "      <td>0.0</td>\n",
       "      <td>0.0</td>\n",
       "      <td>0.0</td>\n",
       "      <td>0.0</td>\n",
       "      <td>1.0</td>\n",
       "      <td>1.0</td>\n",
       "      <td>0.0</td>\n",
       "      <td>1.0</td>\n",
       "      <td>0.0</td>\n",
       "    </tr>\n",
       "    <tr>\n",
       "      <th>1</th>\n",
       "      <td>1.0</td>\n",
       "      <td>0.0</td>\n",
       "      <td>0.0</td>\n",
       "      <td>1.0</td>\n",
       "      <td>0.0</td>\n",
       "      <td>0.0</td>\n",
       "      <td>0.0</td>\n",
       "      <td>0.0</td>\n",
       "      <td>1.0</td>\n",
       "      <td>0.0</td>\n",
       "      <td>...</td>\n",
       "      <td>0.0</td>\n",
       "      <td>0.0</td>\n",
       "      <td>0.0</td>\n",
       "      <td>0.0</td>\n",
       "      <td>1.0</td>\n",
       "      <td>0.0</td>\n",
       "      <td>1.0</td>\n",
       "      <td>0.0</td>\n",
       "      <td>1.0</td>\n",
       "      <td>0.0</td>\n",
       "    </tr>\n",
       "    <tr>\n",
       "      <th>2</th>\n",
       "      <td>1.0</td>\n",
       "      <td>0.0</td>\n",
       "      <td>0.0</td>\n",
       "      <td>0.0</td>\n",
       "      <td>0.0</td>\n",
       "      <td>0.0</td>\n",
       "      <td>0.0</td>\n",
       "      <td>1.0</td>\n",
       "      <td>1.0</td>\n",
       "      <td>0.0</td>\n",
       "      <td>...</td>\n",
       "      <td>0.0</td>\n",
       "      <td>0.0</td>\n",
       "      <td>0.0</td>\n",
       "      <td>0.0</td>\n",
       "      <td>0.0</td>\n",
       "      <td>1.0</td>\n",
       "      <td>1.0</td>\n",
       "      <td>0.0</td>\n",
       "      <td>1.0</td>\n",
       "      <td>0.0</td>\n",
       "    </tr>\n",
       "    <tr>\n",
       "      <th>3</th>\n",
       "      <td>1.0</td>\n",
       "      <td>0.0</td>\n",
       "      <td>0.0</td>\n",
       "      <td>0.0</td>\n",
       "      <td>0.0</td>\n",
       "      <td>0.0</td>\n",
       "      <td>0.0</td>\n",
       "      <td>1.0</td>\n",
       "      <td>1.0</td>\n",
       "      <td>0.0</td>\n",
       "      <td>...</td>\n",
       "      <td>0.0</td>\n",
       "      <td>0.0</td>\n",
       "      <td>0.0</td>\n",
       "      <td>0.0</td>\n",
       "      <td>1.0</td>\n",
       "      <td>0.0</td>\n",
       "      <td>1.0</td>\n",
       "      <td>0.0</td>\n",
       "      <td>1.0</td>\n",
       "      <td>0.0</td>\n",
       "    </tr>\n",
       "    <tr>\n",
       "      <th>4</th>\n",
       "      <td>1.0</td>\n",
       "      <td>0.0</td>\n",
       "      <td>0.0</td>\n",
       "      <td>1.0</td>\n",
       "      <td>0.0</td>\n",
       "      <td>0.0</td>\n",
       "      <td>0.0</td>\n",
       "      <td>0.0</td>\n",
       "      <td>0.0</td>\n",
       "      <td>0.0</td>\n",
       "      <td>...</td>\n",
       "      <td>0.0</td>\n",
       "      <td>0.0</td>\n",
       "      <td>0.0</td>\n",
       "      <td>0.0</td>\n",
       "      <td>1.0</td>\n",
       "      <td>0.0</td>\n",
       "      <td>1.0</td>\n",
       "      <td>0.0</td>\n",
       "      <td>1.0</td>\n",
       "      <td>0.0</td>\n",
       "    </tr>\n",
       "  </tbody>\n",
       "</table>\n",
       "<p>5 rows × 82 columns</p>\n",
       "</div>"
      ],
      "text/plain": [
       "   term_ 36 months  term_ 60 months  home_ownership_ANY  \\\n",
       "0              0.0              1.0                 0.0   \n",
       "1              1.0              0.0                 0.0   \n",
       "2              1.0              0.0                 0.0   \n",
       "3              1.0              0.0                 0.0   \n",
       "4              1.0              0.0                 0.0   \n",
       "\n",
       "   home_ownership_MORTGAGE  home_ownership_NONE  home_ownership_OTHER  \\\n",
       "0                      1.0                  0.0                   0.0   \n",
       "1                      1.0                  0.0                   0.0   \n",
       "2                      0.0                  0.0                   0.0   \n",
       "3                      0.0                  0.0                   0.0   \n",
       "4                      1.0                  0.0                   0.0   \n",
       "\n",
       "   home_ownership_OWN  home_ownership_RENT  verification_status_Not Verified  \\\n",
       "0                 0.0                  0.0                               0.0   \n",
       "1                 0.0                  0.0                               1.0   \n",
       "2                 0.0                  1.0                               1.0   \n",
       "3                 0.0                  1.0                               1.0   \n",
       "4                 0.0                  0.0                               0.0   \n",
       "\n",
       "   verification_status_Source Verified  ...  addr_state_WA  addr_state_WI  \\\n",
       "0                                  1.0  ...            0.0            0.0   \n",
       "1                                  0.0  ...            0.0            0.0   \n",
       "2                                  0.0  ...            0.0            0.0   \n",
       "3                                  0.0  ...            0.0            0.0   \n",
       "4                                  0.0  ...            0.0            0.0   \n",
       "\n",
       "   addr_state_WV  addr_state_WY  initial_list_status_f  initial_list_status_w  \\\n",
       "0            0.0            0.0                    0.0                    1.0   \n",
       "1            0.0            0.0                    1.0                    0.0   \n",
       "2            0.0            0.0                    0.0                    1.0   \n",
       "3            0.0            0.0                    1.0                    0.0   \n",
       "4            0.0            0.0                    1.0                    0.0   \n",
       "\n",
       "   application_type_Individual  application_type_Joint App  \\\n",
       "0                          1.0                         0.0   \n",
       "1                          1.0                         0.0   \n",
       "2                          1.0                         0.0   \n",
       "3                          1.0                         0.0   \n",
       "4                          1.0                         0.0   \n",
       "\n",
       "   disbursement_method_Cash  disbursement_method_DirectPay  \n",
       "0                       1.0                            0.0  \n",
       "1                       1.0                            0.0  \n",
       "2                       1.0                            0.0  \n",
       "3                       1.0                            0.0  \n",
       "4                       1.0                            0.0  \n",
       "\n",
       "[5 rows x 82 columns]"
      ]
     },
     "execution_count": 151,
     "metadata": {},
     "output_type": "execute_result"
    }
   ],
   "source": [
    "# 修改测试集中的变量名\n",
    "X_test_cat_onehot.columns = X_train_dum.columns[72:]\n",
    "X_test_cat_onehot.head()"
   ]
  },
  {
   "cell_type": "code",
   "execution_count": 157,
   "metadata": {},
   "outputs": [
    {
     "data": {
      "text/html": [
       "<div>\n",
       "<style scoped>\n",
       "    .dataframe tbody tr th:only-of-type {\n",
       "        vertical-align: middle;\n",
       "    }\n",
       "\n",
       "    .dataframe tbody tr th {\n",
       "        vertical-align: top;\n",
       "    }\n",
       "\n",
       "    .dataframe thead th {\n",
       "        text-align: right;\n",
       "    }\n",
       "</style>\n",
       "<table border=\"1\" class=\"dataframe\">\n",
       "  <thead>\n",
       "    <tr style=\"text-align: right;\">\n",
       "      <th></th>\n",
       "      <th>loan_amnt</th>\n",
       "      <th>funded_amnt</th>\n",
       "      <th>funded_amnt_inv</th>\n",
       "      <th>int_rate</th>\n",
       "      <th>installment</th>\n",
       "      <th>grade</th>\n",
       "      <th>emp_length</th>\n",
       "      <th>annual_inc</th>\n",
       "      <th>dti</th>\n",
       "      <th>delinq_2yrs</th>\n",
       "      <th>...</th>\n",
       "      <th>num_tl_op_past_12m</th>\n",
       "      <th>pct_tl_nvr_dlq</th>\n",
       "      <th>percent_bc_gt_75</th>\n",
       "      <th>pub_rec_bankruptcies</th>\n",
       "      <th>tax_liens</th>\n",
       "      <th>tot_hi_cred_lim</th>\n",
       "      <th>total_bal_ex_mort</th>\n",
       "      <th>total_bc_limit</th>\n",
       "      <th>total_il_high_credit_limit</th>\n",
       "      <th>term</th>\n",
       "    </tr>\n",
       "  </thead>\n",
       "  <tbody>\n",
       "    <tr>\n",
       "      <th>0</th>\n",
       "      <td>24000.0</td>\n",
       "      <td>24000.0</td>\n",
       "      <td>24000.0</td>\n",
       "      <td>15.59</td>\n",
       "      <td>578.42</td>\n",
       "      <td>3.0</td>\n",
       "      <td>2.0</td>\n",
       "      <td>58000.00</td>\n",
       "      <td>27.52</td>\n",
       "      <td>4.0</td>\n",
       "      <td>...</td>\n",
       "      <td>0.0</td>\n",
       "      <td>80.0</td>\n",
       "      <td>66.7</td>\n",
       "      <td>0.0</td>\n",
       "      <td>0.0</td>\n",
       "      <td>48502.0</td>\n",
       "      <td>19556.0</td>\n",
       "      <td>9000.0</td>\n",
       "      <td>37402.0</td>\n",
       "      <td>60 months</td>\n",
       "    </tr>\n",
       "    <tr>\n",
       "      <th>1</th>\n",
       "      <td>15000.0</td>\n",
       "      <td>15000.0</td>\n",
       "      <td>15000.0</td>\n",
       "      <td>14.07</td>\n",
       "      <td>513.18</td>\n",
       "      <td>3.0</td>\n",
       "      <td>8.0</td>\n",
       "      <td>93257.00</td>\n",
       "      <td>25.97</td>\n",
       "      <td>0.0</td>\n",
       "      <td>...</td>\n",
       "      <td>1.0</td>\n",
       "      <td>100.0</td>\n",
       "      <td>0.0</td>\n",
       "      <td>0.0</td>\n",
       "      <td>0.0</td>\n",
       "      <td>91665.0</td>\n",
       "      <td>64027.0</td>\n",
       "      <td>5500.0</td>\n",
       "      <td>63335.0</td>\n",
       "      <td>36 months</td>\n",
       "    </tr>\n",
       "    <tr>\n",
       "      <th>2</th>\n",
       "      <td>33400.0</td>\n",
       "      <td>33400.0</td>\n",
       "      <td>33400.0</td>\n",
       "      <td>13.49</td>\n",
       "      <td>768.36</td>\n",
       "      <td>3.0</td>\n",
       "      <td>7.0</td>\n",
       "      <td>115000.00</td>\n",
       "      <td>19.76</td>\n",
       "      <td>0.0</td>\n",
       "      <td>...</td>\n",
       "      <td>1.0</td>\n",
       "      <td>100.0</td>\n",
       "      <td>0.0</td>\n",
       "      <td>0.0</td>\n",
       "      <td>0.0</td>\n",
       "      <td>701900.0</td>\n",
       "      <td>213213.0</td>\n",
       "      <td>60800.0</td>\n",
       "      <td>30000.0</td>\n",
       "      <td>60 months</td>\n",
       "    </tr>\n",
       "    <tr>\n",
       "      <th>3</th>\n",
       "      <td>9400.0</td>\n",
       "      <td>9400.0</td>\n",
       "      <td>9400.0</td>\n",
       "      <td>21.45</td>\n",
       "      <td>356.33</td>\n",
       "      <td>4.0</td>\n",
       "      <td>3.0</td>\n",
       "      <td>26151.96</td>\n",
       "      <td>16.52</td>\n",
       "      <td>5.0</td>\n",
       "      <td>...</td>\n",
       "      <td>2.0</td>\n",
       "      <td>79.2</td>\n",
       "      <td>20.0</td>\n",
       "      <td>0.0</td>\n",
       "      <td>0.0</td>\n",
       "      <td>59846.0</td>\n",
       "      <td>56039.0</td>\n",
       "      <td>4200.0</td>\n",
       "      <td>54046.0</td>\n",
       "      <td>36 months</td>\n",
       "    </tr>\n",
       "    <tr>\n",
       "      <th>4</th>\n",
       "      <td>3000.0</td>\n",
       "      <td>3000.0</td>\n",
       "      <td>3000.0</td>\n",
       "      <td>12.74</td>\n",
       "      <td>100.71</td>\n",
       "      <td>3.0</td>\n",
       "      <td>8.0</td>\n",
       "      <td>65000.00</td>\n",
       "      <td>27.13</td>\n",
       "      <td>1.0</td>\n",
       "      <td>...</td>\n",
       "      <td>2.0</td>\n",
       "      <td>91.5</td>\n",
       "      <td>100.0</td>\n",
       "      <td>0.0</td>\n",
       "      <td>0.0</td>\n",
       "      <td>81855.0</td>\n",
       "      <td>54424.0</td>\n",
       "      <td>21100.0</td>\n",
       "      <td>36455.0</td>\n",
       "      <td>36 months</td>\n",
       "    </tr>\n",
       "  </tbody>\n",
       "</table>\n",
       "<p>5 rows × 73 columns</p>\n",
       "</div>"
      ],
      "text/plain": [
       "   loan_amnt  funded_amnt  funded_amnt_inv  int_rate  installment  grade  \\\n",
       "0    24000.0      24000.0          24000.0     15.59       578.42    3.0   \n",
       "1    15000.0      15000.0          15000.0     14.07       513.18    3.0   \n",
       "2    33400.0      33400.0          33400.0     13.49       768.36    3.0   \n",
       "3     9400.0       9400.0           9400.0     21.45       356.33    4.0   \n",
       "4     3000.0       3000.0           3000.0     12.74       100.71    3.0   \n",
       "\n",
       "   emp_length  annual_inc    dti  delinq_2yrs  ...  num_tl_op_past_12m  \\\n",
       "0         2.0    58000.00  27.52          4.0  ...                 0.0   \n",
       "1         8.0    93257.00  25.97          0.0  ...                 1.0   \n",
       "2         7.0   115000.00  19.76          0.0  ...                 1.0   \n",
       "3         3.0    26151.96  16.52          5.0  ...                 2.0   \n",
       "4         8.0    65000.00  27.13          1.0  ...                 2.0   \n",
       "\n",
       "   pct_tl_nvr_dlq  percent_bc_gt_75  pub_rec_bankruptcies  tax_liens  \\\n",
       "0            80.0              66.7                   0.0        0.0   \n",
       "1           100.0               0.0                   0.0        0.0   \n",
       "2           100.0               0.0                   0.0        0.0   \n",
       "3            79.2              20.0                   0.0        0.0   \n",
       "4            91.5             100.0                   0.0        0.0   \n",
       "\n",
       "   tot_hi_cred_lim  total_bal_ex_mort  total_bc_limit  \\\n",
       "0          48502.0            19556.0          9000.0   \n",
       "1          91665.0            64027.0          5500.0   \n",
       "2         701900.0           213213.0         60800.0   \n",
       "3          59846.0            56039.0          4200.0   \n",
       "4          81855.0            54424.0         21100.0   \n",
       "\n",
       "   total_il_high_credit_limit        term  \n",
       "0                     37402.0   60 months  \n",
       "1                     63335.0   36 months  \n",
       "2                     30000.0   60 months  \n",
       "3                     54046.0   36 months  \n",
       "4                     36455.0   36 months  \n",
       "\n",
       "[5 rows x 73 columns]"
      ]
     },
     "execution_count": 157,
     "metadata": {},
     "output_type": "execute_result"
    }
   ],
   "source": [
    "X_train_imp.iloc[:5,0:72]"
   ]
  },
  {
   "cell_type": "code",
   "execution_count": 160,
   "metadata": {},
   "outputs": [],
   "source": [
    "# 整合定量变量与定性变量\n",
    "X_train_pre = pd.concat([X_train_imp.iloc[:,0:72],X_train_cat_onehot],axis=1)\n",
    "X_test_pre = pd.concat([X_test_imp.iloc[:,0:72],X_test_cat_onehot],axis=1)"
   ]
  },
  {
   "cell_type": "code",
   "execution_count": 161,
   "metadata": {},
   "outputs": [
    {
     "data": {
      "text/html": [
       "<div>\n",
       "<style scoped>\n",
       "    .dataframe tbody tr th:only-of-type {\n",
       "        vertical-align: middle;\n",
       "    }\n",
       "\n",
       "    .dataframe tbody tr th {\n",
       "        vertical-align: top;\n",
       "    }\n",
       "\n",
       "    .dataframe thead th {\n",
       "        text-align: right;\n",
       "    }\n",
       "</style>\n",
       "<table border=\"1\" class=\"dataframe\">\n",
       "  <thead>\n",
       "    <tr style=\"text-align: right;\">\n",
       "      <th></th>\n",
       "      <th>loan_amnt</th>\n",
       "      <th>funded_amnt</th>\n",
       "      <th>funded_amnt_inv</th>\n",
       "      <th>int_rate</th>\n",
       "      <th>installment</th>\n",
       "      <th>grade</th>\n",
       "      <th>emp_length</th>\n",
       "      <th>annual_inc</th>\n",
       "      <th>dti</th>\n",
       "      <th>delinq_2yrs</th>\n",
       "      <th>...</th>\n",
       "      <th>addr_state_WA</th>\n",
       "      <th>addr_state_WI</th>\n",
       "      <th>addr_state_WV</th>\n",
       "      <th>addr_state_WY</th>\n",
       "      <th>initial_list_status_f</th>\n",
       "      <th>initial_list_status_w</th>\n",
       "      <th>application_type_Individual</th>\n",
       "      <th>application_type_Joint App</th>\n",
       "      <th>disbursement_method_Cash</th>\n",
       "      <th>disbursement_method_DirectPay</th>\n",
       "    </tr>\n",
       "  </thead>\n",
       "  <tbody>\n",
       "    <tr>\n",
       "      <th>0</th>\n",
       "      <td>24000.0</td>\n",
       "      <td>24000.0</td>\n",
       "      <td>24000.0</td>\n",
       "      <td>15.59</td>\n",
       "      <td>578.42</td>\n",
       "      <td>3.0</td>\n",
       "      <td>2.0</td>\n",
       "      <td>58000.00</td>\n",
       "      <td>27.52</td>\n",
       "      <td>4.0</td>\n",
       "      <td>...</td>\n",
       "      <td>0.0</td>\n",
       "      <td>0.0</td>\n",
       "      <td>0.0</td>\n",
       "      <td>0.0</td>\n",
       "      <td>0.0</td>\n",
       "      <td>1.0</td>\n",
       "      <td>1.0</td>\n",
       "      <td>0.0</td>\n",
       "      <td>1.0</td>\n",
       "      <td>0.0</td>\n",
       "    </tr>\n",
       "    <tr>\n",
       "      <th>1</th>\n",
       "      <td>15000.0</td>\n",
       "      <td>15000.0</td>\n",
       "      <td>15000.0</td>\n",
       "      <td>14.07</td>\n",
       "      <td>513.18</td>\n",
       "      <td>3.0</td>\n",
       "      <td>8.0</td>\n",
       "      <td>93257.00</td>\n",
       "      <td>25.97</td>\n",
       "      <td>0.0</td>\n",
       "      <td>...</td>\n",
       "      <td>0.0</td>\n",
       "      <td>0.0</td>\n",
       "      <td>0.0</td>\n",
       "      <td>0.0</td>\n",
       "      <td>1.0</td>\n",
       "      <td>0.0</td>\n",
       "      <td>1.0</td>\n",
       "      <td>0.0</td>\n",
       "      <td>1.0</td>\n",
       "      <td>0.0</td>\n",
       "    </tr>\n",
       "    <tr>\n",
       "      <th>2</th>\n",
       "      <td>33400.0</td>\n",
       "      <td>33400.0</td>\n",
       "      <td>33400.0</td>\n",
       "      <td>13.49</td>\n",
       "      <td>768.36</td>\n",
       "      <td>3.0</td>\n",
       "      <td>7.0</td>\n",
       "      <td>115000.00</td>\n",
       "      <td>19.76</td>\n",
       "      <td>0.0</td>\n",
       "      <td>...</td>\n",
       "      <td>0.0</td>\n",
       "      <td>0.0</td>\n",
       "      <td>0.0</td>\n",
       "      <td>0.0</td>\n",
       "      <td>0.0</td>\n",
       "      <td>1.0</td>\n",
       "      <td>1.0</td>\n",
       "      <td>0.0</td>\n",
       "      <td>1.0</td>\n",
       "      <td>0.0</td>\n",
       "    </tr>\n",
       "    <tr>\n",
       "      <th>3</th>\n",
       "      <td>9400.0</td>\n",
       "      <td>9400.0</td>\n",
       "      <td>9400.0</td>\n",
       "      <td>21.45</td>\n",
       "      <td>356.33</td>\n",
       "      <td>4.0</td>\n",
       "      <td>3.0</td>\n",
       "      <td>26151.96</td>\n",
       "      <td>16.52</td>\n",
       "      <td>5.0</td>\n",
       "      <td>...</td>\n",
       "      <td>0.0</td>\n",
       "      <td>0.0</td>\n",
       "      <td>0.0</td>\n",
       "      <td>0.0</td>\n",
       "      <td>1.0</td>\n",
       "      <td>0.0</td>\n",
       "      <td>1.0</td>\n",
       "      <td>0.0</td>\n",
       "      <td>1.0</td>\n",
       "      <td>0.0</td>\n",
       "    </tr>\n",
       "    <tr>\n",
       "      <th>4</th>\n",
       "      <td>3000.0</td>\n",
       "      <td>3000.0</td>\n",
       "      <td>3000.0</td>\n",
       "      <td>12.74</td>\n",
       "      <td>100.71</td>\n",
       "      <td>3.0</td>\n",
       "      <td>8.0</td>\n",
       "      <td>65000.00</td>\n",
       "      <td>27.13</td>\n",
       "      <td>1.0</td>\n",
       "      <td>...</td>\n",
       "      <td>0.0</td>\n",
       "      <td>0.0</td>\n",
       "      <td>0.0</td>\n",
       "      <td>0.0</td>\n",
       "      <td>0.0</td>\n",
       "      <td>1.0</td>\n",
       "      <td>1.0</td>\n",
       "      <td>0.0</td>\n",
       "      <td>1.0</td>\n",
       "      <td>0.0</td>\n",
       "    </tr>\n",
       "  </tbody>\n",
       "</table>\n",
       "<p>5 rows × 154 columns</p>\n",
       "</div>"
      ],
      "text/plain": [
       "   loan_amnt  funded_amnt  funded_amnt_inv  int_rate  installment  grade  \\\n",
       "0    24000.0      24000.0          24000.0     15.59       578.42    3.0   \n",
       "1    15000.0      15000.0          15000.0     14.07       513.18    3.0   \n",
       "2    33400.0      33400.0          33400.0     13.49       768.36    3.0   \n",
       "3     9400.0       9400.0           9400.0     21.45       356.33    4.0   \n",
       "4     3000.0       3000.0           3000.0     12.74       100.71    3.0   \n",
       "\n",
       "   emp_length  annual_inc    dti  delinq_2yrs  ...  addr_state_WA  \\\n",
       "0         2.0    58000.00  27.52          4.0  ...            0.0   \n",
       "1         8.0    93257.00  25.97          0.0  ...            0.0   \n",
       "2         7.0   115000.00  19.76          0.0  ...            0.0   \n",
       "3         3.0    26151.96  16.52          5.0  ...            0.0   \n",
       "4         8.0    65000.00  27.13          1.0  ...            0.0   \n",
       "\n",
       "   addr_state_WI  addr_state_WV  addr_state_WY  initial_list_status_f  \\\n",
       "0            0.0            0.0            0.0                    0.0   \n",
       "1            0.0            0.0            0.0                    1.0   \n",
       "2            0.0            0.0            0.0                    0.0   \n",
       "3            0.0            0.0            0.0                    1.0   \n",
       "4            0.0            0.0            0.0                    0.0   \n",
       "\n",
       "   initial_list_status_w  application_type_Individual  \\\n",
       "0                    1.0                          1.0   \n",
       "1                    0.0                          1.0   \n",
       "2                    1.0                          1.0   \n",
       "3                    0.0                          1.0   \n",
       "4                    1.0                          1.0   \n",
       "\n",
       "   application_type_Joint App  disbursement_method_Cash  \\\n",
       "0                         0.0                       1.0   \n",
       "1                         0.0                       1.0   \n",
       "2                         0.0                       1.0   \n",
       "3                         0.0                       1.0   \n",
       "4                         0.0                       1.0   \n",
       "\n",
       "   disbursement_method_DirectPay  \n",
       "0                            0.0  \n",
       "1                            0.0  \n",
       "2                            0.0  \n",
       "3                            0.0  \n",
       "4                            0.0  \n",
       "\n",
       "[5 rows x 154 columns]"
      ]
     },
     "execution_count": 161,
     "metadata": {},
     "output_type": "execute_result"
    }
   ],
   "source": [
    "X_train_pre.head()"
   ]
  },
  {
   "cell_type": "code",
   "execution_count": 162,
   "metadata": {},
   "outputs": [
    {
     "name": "stdout",
     "output_type": "stream",
     "text": [
      "<class 'pandas.core.frame.DataFrame'>\n",
      "RangeIndex: 753532 entries, 0 to 753531\n",
      "Columns: 154 entries, loan_amnt to disbursement_method_DirectPay\n",
      "dtypes: float64(154)\n",
      "memory usage: 885.3 MB\n"
     ]
    }
   ],
   "source": [
    "X_train_pre.info()"
   ]
  },
  {
   "cell_type": "markdown",
   "metadata": {},
   "source": [
    "## LU公司信贷数据模型的建立、优化与解释"
   ]
  },
  {
   "cell_type": "markdown",
   "metadata": {},
   "source": [
    "### （一）XGBoost模型建立、优化与解释"
   ]
  },
  {
   "cell_type": "code",
   "execution_count": 252,
   "metadata": {},
   "outputs": [],
   "source": [
    "# 之前变量类型换来换去，都弄晕了，用相同的随机数种子重新找到之前的y_test\n",
    "y = alldata[['y']].astype(object)\n",
    "\n",
    "X_trainw, X_testw, y_train, y_test = train_test_split(\n",
    "    alldata.drop(['y'],axis=1),y,test_size=1/3, random_state=1,stratify=y) "
   ]
  },
  {
   "cell_type": "code",
   "execution_count": 253,
   "metadata": {},
   "outputs": [
    {
     "name": "stderr",
     "output_type": "stream",
     "text": [
      "/opt/anaconda3/lib/python3.8/site-packages/sklearn/utils/validation.py:73: DataConversionWarning: A column-vector y was passed when a 1d array was expected. Please change the shape of y to (n_samples, ), for example using ravel().\n",
      "  return f(**kwargs)\n"
     ]
    }
   ],
   "source": [
    "# 不进行参数优化，尝试观察模型效果\n",
    "from sklearn.model_selection import GridSearchCV,cross_val_score,KFold\n",
    "import xgboost as xgb\n",
    "from xgboost import XGBClassifier\n",
    "xgb0 = xgb.XGBClassifier(learning_rate=0.1,max_depth=6,\n",
    "objective='binary:logistic', random_state=1)\n",
    "\n",
    "xgb0 = xgb0.fit(X_train_pre,y_train)\n",
    "y_pred0 = xgb0.predict(X_test_pre)\n",
    "y_predproba0 = xgb0.predict_proba(X_test_pre) "
   ]
  },
  {
   "cell_type": "code",
   "execution_count": 269,
   "metadata": {},
   "outputs": [],
   "source": [
    "from sklearn.metrics import roc_auc_score,f1_score\n",
    "from sklearn.metrics import accuracy_score\n",
    "from sklearn.metrics import classification_report, confusion_matrix"
   ]
  },
  {
   "cell_type": "code",
   "execution_count": 274,
   "metadata": {},
   "outputs": [
    {
     "name": "stdout",
     "output_type": "stream",
     "text": [
      "              precision    recall  f1-score   support\n",
      "\n",
      "           0       0.98      1.00      0.99    326929\n",
      "           1       1.00      0.87      0.93     49837\n",
      "\n",
      "    accuracy                           0.98    376766\n",
      "   macro avg       0.99      0.93      0.96    376766\n",
      "weighted avg       0.98      0.98      0.98    376766\n",
      "\n"
     ]
    }
   ],
   "source": [
    "print(classification_report(y_true=y_test.astype('str').values,y_pred=y_pred0.astype('str')))"
   ]
  },
  {
   "cell_type": "code",
   "execution_count": 305,
   "metadata": {},
   "outputs": [
    {
     "data": {
      "text/plain": [
       "0.9303108975046667"
      ]
     },
     "execution_count": 305,
     "metadata": {},
     "output_type": "execute_result"
    }
   ],
   "source": [
    "f1_score(y_true=y_test.astype('int').values,y_pred=y_pred0.astype('int'))"
   ]
  },
  {
   "cell_type": "code",
   "execution_count": 272,
   "metadata": {},
   "outputs": [
    {
     "data": {
      "text/plain": [
       "array([[326911,     18],\n",
       "       [  6478,  43359]])"
      ]
     },
     "execution_count": 272,
     "metadata": {},
     "output_type": "execute_result"
    }
   ],
   "source": [
    "confusion_matrix(y_true=y_test.astype('str').values,y_pred=y_pred0.astype('str'))"
   ]
  },
  {
   "cell_type": "code",
   "execution_count": 284,
   "metadata": {},
   "outputs": [
    {
     "data": {
      "text/plain": [
       "Text(0.5, 1.0, 'ROC curve: AUC=0.98')"
      ]
     },
     "execution_count": 284,
     "metadata": {},
     "output_type": "execute_result"
    },
    {
     "data": {
      "image/png": "[encoded data removed]",
      "text/plain": [
       "<Figure size 432x288 with 1 Axes>"
      ]
     },
     "metadata": {
      "needs_background": "light"
     },
     "output_type": "display_data"
    }
   ],
   "source": [
    "from sklearn.metrics import roc_curve,RocCurveDisplay,auc\n",
    "fpr, tpr, shreshold = roc_curve(y_test.astype('int').values.ravel(),y_predproba0[:,1])\n",
    "roc_display = RocCurveDisplay(fpr=fpr, tpr=tpr).plot()\n",
    "auc1 = auc(fpr, tpr) #获得AUC的另一种方法\n",
    "roc_display.ax_.set_title('ROC curve: ' 'AUC={0:0.2f}'.format(auc1))"
   ]
  },
  {
   "cell_type": "code",
   "execution_count": 298,
   "metadata": {},
   "outputs": [
    {
     "name": "stdout",
     "output_type": "stream",
     "text": [
      "[23:29:49] WARNING: /Users/travis/build/dmlc/xgboost/src/learner.cc:516: \n",
      "Parameters: { xgb1__learning_rate, xgb1__max_depth, xgb1__n_estimators } might not be used.\n",
      "\n",
      "  This may not be accurate due to some parameters are only used in language bindings but\n",
      "  passed down to XGBoost core.  Or some parameters are not used but slip through this\n",
      "  verification. Please open an issue if you find above cases.\n",
      "\n",
      "\n",
      "[23:34:44] WARNING: /Users/travis/build/dmlc/xgboost/src/learner.cc:516: \n",
      "Parameters: { xgb1__learning_rate, xgb1__max_depth, xgb1__n_estimators } might not be used.\n",
      "\n",
      "  This may not be accurate due to some parameters are only used in language bindings but\n",
      "  passed down to XGBoost core.  Or some parameters are not used but slip through this\n",
      "  verification. Please open an issue if you find above cases.\n",
      "\n",
      "\n",
      "[23:39:41] WARNING: /Users/travis/build/dmlc/xgboost/src/learner.cc:516: \n",
      "Parameters: { xgb1__learning_rate, xgb1__max_depth, xgb1__n_estimators } might not be used.\n",
      "\n",
      "  This may not be accurate due to some parameters are only used in language bindings but\n",
      "  passed down to XGBoost core.  Or some parameters are not used but slip through this\n",
      "  verification. Please open an issue if you find above cases.\n",
      "\n",
      "\n",
      "[23:44:24] WARNING: /Users/travis/build/dmlc/xgboost/src/learner.cc:516: \n",
      "Parameters: { xgb1__learning_rate, xgb1__max_depth, xgb1__n_estimators } might not be used.\n",
      "\n",
      "  This may not be accurate due to some parameters are only used in language bindings but\n",
      "  passed down to XGBoost core.  Or some parameters are not used but slip through this\n",
      "  verification. Please open an issue if you find above cases.\n",
      "\n",
      "\n",
      "[23:49:07] WARNING: /Users/travis/build/dmlc/xgboost/src/learner.cc:516: \n",
      "Parameters: { xgb1__learning_rate, xgb1__max_depth, xgb1__n_estimators } might not be used.\n",
      "\n",
      "  This may not be accurate due to some parameters are only used in language bindings but\n",
      "  passed down to XGBoost core.  Or some parameters are not used but slip through this\n",
      "  verification. Please open an issue if you find above cases.\n",
      "\n",
      "\n",
      "[23:54:12] WARNING: /Users/travis/build/dmlc/xgboost/src/learner.cc:516: \n",
      "Parameters: { xgb1__learning_rate, xgb1__max_depth, xgb1__n_estimators } might not be used.\n",
      "\n",
      "  This may not be accurate due to some parameters are only used in language bindings but\n",
      "  passed down to XGBoost core.  Or some parameters are not used but slip through this\n",
      "  verification. Please open an issue if you find above cases.\n",
      "\n",
      "\n",
      "[23:59:12] WARNING: /Users/travis/build/dmlc/xgboost/src/learner.cc:516: \n",
      "Parameters: { xgb1__learning_rate, xgb1__max_depth, xgb1__n_estimators } might not be used.\n",
      "\n",
      "  This may not be accurate due to some parameters are only used in language bindings but\n",
      "  passed down to XGBoost core.  Or some parameters are not used but slip through this\n",
      "  verification. Please open an issue if you find above cases.\n",
      "\n",
      "\n",
      "[00:04:11] WARNING: /Users/travis/build/dmlc/xgboost/src/learner.cc:516: \n",
      "Parameters: { xgb1__learning_rate, xgb1__max_depth, xgb1__n_estimators } might not be used.\n",
      "\n",
      "  This may not be accurate due to some parameters are only used in language bindings but\n",
      "  passed down to XGBoost core.  Or some parameters are not used but slip through this\n",
      "  verification. Please open an issue if you find above cases.\n",
      "\n",
      "\n",
      "[00:09:13] WARNING: /Users/travis/build/dmlc/xgboost/src/learner.cc:516: \n",
      "Parameters: { xgb1__learning_rate, xgb1__max_depth, xgb1__n_estimators } might not be used.\n",
      "\n",
      "  This may not be accurate due to some parameters are only used in language bindings but\n",
      "  passed down to XGBoost core.  Or some parameters are not used but slip through this\n",
      "  verification. Please open an issue if you find above cases.\n",
      "\n",
      "\n",
      "[00:14:04] WARNING: /Users/travis/build/dmlc/xgboost/src/learner.cc:516: \n",
      "Parameters: { xgb1__learning_rate, xgb1__max_depth, xgb1__n_estimators } might not be used.\n",
      "\n",
      "  This may not be accurate due to some parameters are only used in language bindings but\n",
      "  passed down to XGBoost core.  Or some parameters are not used but slip through this\n",
      "  verification. Please open an issue if you find above cases.\n",
      "\n",
      "\n",
      "[00:19:08] WARNING: /Users/travis/build/dmlc/xgboost/src/learner.cc:516: \n",
      "Parameters: { xgb1__learning_rate, xgb1__max_depth, xgb1__n_estimators } might not be used.\n",
      "\n",
      "  This may not be accurate due to some parameters are only used in language bindings but\n",
      "  passed down to XGBoost core.  Or some parameters are not used but slip through this\n",
      "  verification. Please open an issue if you find above cases.\n",
      "\n",
      "\n",
      "[00:24:13] WARNING: /Users/travis/build/dmlc/xgboost/src/learner.cc:516: \n",
      "Parameters: { xgb1__learning_rate, xgb1__max_depth, xgb1__n_estimators } might not be used.\n",
      "\n",
      "  This may not be accurate due to some parameters are only used in language bindings but\n",
      "  passed down to XGBoost core.  Or some parameters are not used but slip through this\n",
      "  verification. Please open an issue if you find above cases.\n",
      "\n",
      "\n",
      "[00:29:45] WARNING: /Users/travis/build/dmlc/xgboost/src/learner.cc:516: \n",
      "Parameters: { xgb1__learning_rate, xgb1__max_depth, xgb1__n_estimators } might not be used.\n",
      "\n",
      "  This may not be accurate due to some parameters are only used in language bindings but\n",
      "  passed down to XGBoost core.  Or some parameters are not used but slip through this\n",
      "  verification. Please open an issue if you find above cases.\n",
      "\n",
      "\n",
      "[00:34:36] WARNING: /Users/travis/build/dmlc/xgboost/src/learner.cc:516: \n",
      "Parameters: { xgb1__learning_rate, xgb1__max_depth, xgb1__n_estimators } might not be used.\n",
      "\n",
      "  This may not be accurate due to some parameters are only used in language bindings but\n",
      "  passed down to XGBoost core.  Or some parameters are not used but slip through this\n",
      "  verification. Please open an issue if you find above cases.\n",
      "\n",
      "\n",
      "[00:39:31] WARNING: /Users/travis/build/dmlc/xgboost/src/learner.cc:516: \n",
      "Parameters: { xgb1__learning_rate, xgb1__max_depth, xgb1__n_estimators } might not be used.\n",
      "\n",
      "  This may not be accurate due to some parameters are only used in language bindings but\n",
      "  passed down to XGBoost core.  Or some parameters are not used but slip through this\n",
      "  verification. Please open an issue if you find above cases.\n",
      "\n",
      "\n",
      "[00:44:22] WARNING: /Users/travis/build/dmlc/xgboost/src/learner.cc:516: \n",
      "Parameters: { xgb1__learning_rate, xgb1__max_depth, xgb1__n_estimators } might not be used.\n",
      "\n",
      "  This may not be accurate due to some parameters are only used in language bindings but\n",
      "  passed down to XGBoost core.  Or some parameters are not used but slip through this\n",
      "  verification. Please open an issue if you find above cases.\n",
      "\n",
      "\n",
      "[00:49:07] WARNING: /Users/travis/build/dmlc/xgboost/src/learner.cc:516: \n",
      "Parameters: { xgb1__learning_rate, xgb1__max_depth, xgb1__n_estimators } might not be used.\n",
      "\n",
      "  This may not be accurate due to some parameters are only used in language bindings but\n",
      "  passed down to XGBoost core.  Or some parameters are not used but slip through this\n",
      "  verification. Please open an issue if you find above cases.\n",
      "\n",
      "\n",
      "[00:54:04] WARNING: /Users/travis/build/dmlc/xgboost/src/learner.cc:516: \n",
      "Parameters: { xgb1__learning_rate, xgb1__max_depth, xgb1__n_estimators } might not be used.\n",
      "\n",
      "  This may not be accurate due to some parameters are only used in language bindings but\n",
      "  passed down to XGBoost core.  Or some parameters are not used but slip through this\n",
      "  verification. Please open an issue if you find above cases.\n",
      "\n",
      "\n",
      "[00:58:54] WARNING: /Users/travis/build/dmlc/xgboost/src/learner.cc:516: \n",
      "Parameters: { xgb1__learning_rate, xgb1__max_depth, xgb1__n_estimators } might not be used.\n",
      "\n",
      "  This may not be accurate due to some parameters are only used in language bindings but\n",
      "  passed down to XGBoost core.  Or some parameters are not used but slip through this\n",
      "  verification. Please open an issue if you find above cases.\n",
      "\n",
      "\n",
      "[01:03:53] WARNING: /Users/travis/build/dmlc/xgboost/src/learner.cc:516: \n",
      "Parameters: { xgb1__learning_rate, xgb1__max_depth, xgb1__n_estimators } might not be used.\n",
      "\n",
      "  This may not be accurate due to some parameters are only used in language bindings but\n",
      "  passed down to XGBoost core.  Or some parameters are not used but slip through this\n",
      "  verification. Please open an issue if you find above cases.\n",
      "\n",
      "\n",
      "[01:08:44] WARNING: /Users/travis/build/dmlc/xgboost/src/learner.cc:516: \n",
      "Parameters: { xgb1__learning_rate, xgb1__max_depth, xgb1__n_estimators } might not be used.\n",
      "\n",
      "  This may not be accurate due to some parameters are only used in language bindings but\n",
      "  passed down to XGBoost core.  Or some parameters are not used but slip through this\n",
      "  verification. Please open an issue if you find above cases.\n",
      "\n",
      "\n"
     ]
    },
    {
     "name": "stdout",
     "output_type": "stream",
     "text": [
      "[01:13:49] WARNING: /Users/travis/build/dmlc/xgboost/src/learner.cc:516: \n",
      "Parameters: { xgb1__learning_rate, xgb1__max_depth, xgb1__n_estimators } might not be used.\n",
      "\n",
      "  This may not be accurate due to some parameters are only used in language bindings but\n",
      "  passed down to XGBoost core.  Or some parameters are not used but slip through this\n",
      "  verification. Please open an issue if you find above cases.\n",
      "\n",
      "\n",
      "[01:18:40] WARNING: /Users/travis/build/dmlc/xgboost/src/learner.cc:516: \n",
      "Parameters: { xgb1__learning_rate, xgb1__max_depth, xgb1__n_estimators } might not be used.\n",
      "\n",
      "  This may not be accurate due to some parameters are only used in language bindings but\n",
      "  passed down to XGBoost core.  Or some parameters are not used but slip through this\n",
      "  verification. Please open an issue if you find above cases.\n",
      "\n",
      "\n",
      "[01:23:31] WARNING: /Users/travis/build/dmlc/xgboost/src/learner.cc:516: \n",
      "Parameters: { xgb1__learning_rate, xgb1__max_depth, xgb1__n_estimators } might not be used.\n",
      "\n",
      "  This may not be accurate due to some parameters are only used in language bindings but\n",
      "  passed down to XGBoost core.  Or some parameters are not used but slip through this\n",
      "  verification. Please open an issue if you find above cases.\n",
      "\n",
      "\n",
      "[01:27:38] WARNING: /Users/travis/build/dmlc/xgboost/src/learner.cc:516: \n",
      "Parameters: { xgb1__learning_rate, xgb1__max_depth, xgb1__n_estimators } might not be used.\n",
      "\n",
      "  This may not be accurate due to some parameters are only used in language bindings but\n",
      "  passed down to XGBoost core.  Or some parameters are not used but slip through this\n",
      "  verification. Please open an issue if you find above cases.\n",
      "\n",
      "\n",
      "[01:31:33] WARNING: /Users/travis/build/dmlc/xgboost/src/learner.cc:516: \n",
      "Parameters: { xgb1__learning_rate, xgb1__max_depth, xgb1__n_estimators } might not be used.\n",
      "\n",
      "  This may not be accurate due to some parameters are only used in language bindings but\n",
      "  passed down to XGBoost core.  Or some parameters are not used but slip through this\n",
      "  verification. Please open an issue if you find above cases.\n",
      "\n",
      "\n",
      "[01:35:25] WARNING: /Users/travis/build/dmlc/xgboost/src/learner.cc:516: \n",
      "Parameters: { xgb1__learning_rate, xgb1__max_depth, xgb1__n_estimators } might not be used.\n",
      "\n",
      "  This may not be accurate due to some parameters are only used in language bindings but\n",
      "  passed down to XGBoost core.  Or some parameters are not used but slip through this\n",
      "  verification. Please open an issue if you find above cases.\n",
      "\n",
      "\n",
      "[01:39:43] WARNING: /Users/travis/build/dmlc/xgboost/src/learner.cc:516: \n",
      "Parameters: { xgb1__learning_rate, xgb1__max_depth, xgb1__n_estimators } might not be used.\n",
      "\n",
      "  This may not be accurate due to some parameters are only used in language bindings but\n",
      "  passed down to XGBoost core.  Or some parameters are not used but slip through this\n",
      "  verification. Please open an issue if you find above cases.\n",
      "\n",
      "\n",
      "[01:43:47] WARNING: /Users/travis/build/dmlc/xgboost/src/learner.cc:516: \n",
      "Parameters: { xgb1__learning_rate, xgb1__max_depth, xgb1__n_estimators } might not be used.\n",
      "\n",
      "  This may not be accurate due to some parameters are only used in language bindings but\n",
      "  passed down to XGBoost core.  Or some parameters are not used but slip through this\n",
      "  verification. Please open an issue if you find above cases.\n",
      "\n",
      "\n",
      "[01:47:39] WARNING: /Users/travis/build/dmlc/xgboost/src/learner.cc:516: \n",
      "Parameters: { xgb1__learning_rate, xgb1__max_depth, xgb1__n_estimators } might not be used.\n",
      "\n",
      "  This may not be accurate due to some parameters are only used in language bindings but\n",
      "  passed down to XGBoost core.  Or some parameters are not used but slip through this\n",
      "  verification. Please open an issue if you find above cases.\n",
      "\n",
      "\n",
      "[01:51:30] WARNING: /Users/travis/build/dmlc/xgboost/src/learner.cc:516: \n",
      "Parameters: { xgb1__learning_rate, xgb1__max_depth, xgb1__n_estimators } might not be used.\n",
      "\n",
      "  This may not be accurate due to some parameters are only used in language bindings but\n",
      "  passed down to XGBoost core.  Or some parameters are not used but slip through this\n",
      "  verification. Please open an issue if you find above cases.\n",
      "\n",
      "\n",
      "[01:55:20] WARNING: /Users/travis/build/dmlc/xgboost/src/learner.cc:516: \n",
      "Parameters: { xgb1__learning_rate, xgb1__max_depth, xgb1__n_estimators } might not be used.\n",
      "\n",
      "  This may not be accurate due to some parameters are only used in language bindings but\n",
      "  passed down to XGBoost core.  Or some parameters are not used but slip through this\n",
      "  verification. Please open an issue if you find above cases.\n",
      "\n",
      "\n",
      "[01:59:09] WARNING: /Users/travis/build/dmlc/xgboost/src/learner.cc:516: \n",
      "Parameters: { xgb1__learning_rate, xgb1__max_depth, xgb1__n_estimators } might not be used.\n",
      "\n",
      "  This may not be accurate due to some parameters are only used in language bindings but\n",
      "  passed down to XGBoost core.  Or some parameters are not used but slip through this\n",
      "  verification. Please open an issue if you find above cases.\n",
      "\n",
      "\n",
      "[02:02:59] WARNING: /Users/travis/build/dmlc/xgboost/src/learner.cc:516: \n",
      "Parameters: { xgb1__learning_rate, xgb1__max_depth, xgb1__n_estimators } might not be used.\n",
      "\n",
      "  This may not be accurate due to some parameters are only used in language bindings but\n",
      "  passed down to XGBoost core.  Or some parameters are not used but slip through this\n",
      "  verification. Please open an issue if you find above cases.\n",
      "\n",
      "\n",
      "[02:06:50] WARNING: /Users/travis/build/dmlc/xgboost/src/learner.cc:516: \n",
      "Parameters: { xgb1__learning_rate, xgb1__max_depth, xgb1__n_estimators } might not be used.\n",
      "\n",
      "  This may not be accurate due to some parameters are only used in language bindings but\n",
      "  passed down to XGBoost core.  Or some parameters are not used but slip through this\n",
      "  verification. Please open an issue if you find above cases.\n",
      "\n",
      "\n",
      "[02:10:41] WARNING: /Users/travis/build/dmlc/xgboost/src/learner.cc:516: \n",
      "Parameters: { xgb1__learning_rate, xgb1__max_depth, xgb1__n_estimators } might not be used.\n",
      "\n",
      "  This may not be accurate due to some parameters are only used in language bindings but\n",
      "  passed down to XGBoost core.  Or some parameters are not used but slip through this\n",
      "  verification. Please open an issue if you find above cases.\n",
      "\n",
      "\n",
      "[02:14:32] WARNING: /Users/travis/build/dmlc/xgboost/src/learner.cc:516: \n",
      "Parameters: { xgb1__learning_rate, xgb1__max_depth, xgb1__n_estimators } might not be used.\n",
      "\n",
      "  This may not be accurate due to some parameters are only used in language bindings but\n",
      "  passed down to XGBoost core.  Or some parameters are not used but slip through this\n",
      "  verification. Please open an issue if you find above cases.\n",
      "\n",
      "\n"
     ]
    }
   ],
   "source": [
    "#采用交叉验证选取最优参数，这里选取learning_rate,n_estimators,max_depth\n",
    "from sklearn.model_selection import GridSearchCV, KFold\n",
    "\n",
    "xgb1 = xgb.XGBClassifier(learning_rate=0.1,max_depth=6,\n",
    "objective='binary:logistic', random_state=1,scale_pos_weight=6)\n",
    "    \n",
    "param_grid=[{'xgb1__n_estimators':[100, 300, 500],\n",
    "             'xgb1__learning_rate':[0.05,0.1],\n",
    "             'xgb1__max_depth':[4,6,8]}] #一定要注意clf后面是两根下划线！\n",
    "\n",
    "gs = GridSearchCV(estimator=xgb1,\n",
    "               param_grid=param_grid,\n",
    "               scoring='f1',\n",
    "               cv=KFold(n_splits=2, random_state=1, shuffle=True))\n",
    "gs = gs.fit(X_train_pre,y_train.astype('int').values)"
   ]
  },
  {
   "cell_type": "code",
   "execution_count": 299,
   "metadata": {},
   "outputs": [
    {
     "data": {
      "text/plain": [
       "{'xgb1__learning_rate': 0.05, 'xgb1__max_depth': 4, 'xgb1__n_estimators': 100}"
      ]
     },
     "execution_count": 299,
     "metadata": {},
     "output_type": "execute_result"
    }
   ],
   "source": [
    "gs.best_params_ #最佳参数组合"
   ]
  },
  {
   "cell_type": "code",
   "execution_count": 300,
   "metadata": {},
   "outputs": [
    {
     "data": {
      "text/plain": [
       "0.9285630087287087"
      ]
     },
     "execution_count": 300,
     "metadata": {},
     "output_type": "execute_result"
    }
   ],
   "source": [
    "gs.best_score_ #最佳参数组合下的f1_score"
   ]
  },
  {
   "cell_type": "code",
   "execution_count": 301,
   "metadata": {},
   "outputs": [
    {
     "data": {
      "text/plain": [
       "XGBClassifier(base_score=0.5, booster='gbtree', colsample_bylevel=1,\n",
       "              colsample_bynode=1, colsample_bytree=1, gamma=0, gpu_id=-1,\n",
       "              importance_type='gain', interaction_constraints='',\n",
       "              learning_rate=0.1, max_delta_step=0, max_depth=6,\n",
       "              min_child_weight=1, missing=nan, monotone_constraints='()',\n",
       "              n_estimators=100, n_jobs=0, num_parallel_tree=1, random_state=1,\n",
       "              reg_alpha=0, reg_lambda=1, scale_pos_weight=6, subsample=1,\n",
       "              tree_method='exact', validate_parameters=1, verbosity=None,\n",
       "              xgb1__learning_rate=0.05, xgb1__max_depth=4,\n",
       "              xgb1__n_estimators=100)"
      ]
     },
     "execution_count": 301,
     "metadata": {},
     "output_type": "execute_result"
    }
   ],
   "source": [
    "gs.best_estimator_"
   ]
  },
  {
   "cell_type": "code",
   "execution_count": 302,
   "metadata": {},
   "outputs": [
    {
     "name": "stdout",
     "output_type": "stream",
     "text": [
      "[09:24:41] WARNING: /Users/travis/build/dmlc/xgboost/src/learner.cc:516: \n",
      "Parameters: { xgb1__learning_rate, xgb1__max_depth, xgb1__n_estimators } might not be used.\n",
      "\n",
      "  This may not be accurate due to some parameters are only used in language bindings but\n",
      "  passed down to XGBoost core.  Or some parameters are not used but slip through this\n",
      "  verification. Please open an issue if you find above cases.\n",
      "\n",
      "\n"
     ]
    }
   ],
   "source": [
    "#使用最优参数做预测\n",
    "xgb1 = gs.best_estimator_\n",
    "xgb1.fit(X_test_pre, y_test)\n",
    "y_pred1 = xgb1.predict(X_test_pre)\n",
    "y_predproba1 = xgb1.predict_proba(X_test_pre) "
   ]
  },
  {
   "cell_type": "code",
   "execution_count": 315,
   "metadata": {},
   "outputs": [
    {
     "data": {
      "image/png": "[encoded data removed]",
      "text/plain": [
       "<Figure size 1080x2160 with 1 Axes>"
      ]
     },
     "metadata": {
      "needs_background": "light"
     },
     "output_type": "display_data"
    }
   ],
   "source": [
    "import matplotlib.pyplot as plt\n",
    "xgb1_importance = pd.Series(xgb1.feature_importances_,index = X_train_pre.columns, name = 'Var')\n",
    "\n",
    "plt.figure(figsize=(15,30))\n",
    "xgb1_importance.sort_values().plot(kind='barh')\n",
    "plt.title(\"Variances Importances for XGBoost \")\n",
    "plt.savefig('/Users/helefei/Documents/统计建模/3 数据分析项目/数据分析项目提交/XGBoost最优模型变量重要性图.png')"
   ]
  },
  {
   "cell_type": "code",
   "execution_count": 316,
   "metadata": {},
   "outputs": [
    {
     "data": {
      "text/plain": [
       "array([[326705,    224],\n",
       "       [  5708,  44129]])"
      ]
     },
     "execution_count": 316,
     "metadata": {},
     "output_type": "execute_result"
    }
   ],
   "source": [
    "# 混淆矩阵\n",
    "confusion_matrix(y_true=y_test.astype('str').values,y_pred=y_pred1.astype('str'))"
   ]
  },
  {
   "cell_type": "code",
   "execution_count": 318,
   "metadata": {},
   "outputs": [
    {
     "data": {
      "text/plain": [
       "0.9370209151714619"
      ]
     },
     "execution_count": 318,
     "metadata": {},
     "output_type": "execute_result"
    }
   ],
   "source": [
    "# f1_score\n",
    "f1_score(y_true=y_test.astype('int').values,y_pred=y_pred1.astype('int'))"
   ]
  },
  {
   "cell_type": "code",
   "execution_count": 319,
   "metadata": {},
   "outputs": [
    {
     "name": "stdout",
     "output_type": "stream",
     "text": [
      "              precision    recall  f1-score   support\n",
      "\n",
      "           0       0.98      1.00      0.99    326929\n",
      "           1       0.99      0.89      0.94     49837\n",
      "\n",
      "    accuracy                           0.98    376766\n",
      "   macro avg       0.99      0.94      0.96    376766\n",
      "weighted avg       0.98      0.98      0.98    376766\n",
      "\n"
     ]
    }
   ],
   "source": [
    "print(classification_report(y_true=y_test.astype('str').values,y_pred=y_pred1.astype('str')))"
   ]
  },
  {
   "cell_type": "code",
   "execution_count": 320,
   "metadata": {},
   "outputs": [
    {
     "data": {
      "text/plain": [
       "Text(0.5, 1.0, 'ROC curve: AUC=0.99')"
      ]
     },
     "execution_count": 320,
     "metadata": {},
     "output_type": "execute_result"
    },
    {
     "data": {
      "image/png": "[encoded data removed]",
      "text/plain": [
       "<Figure size 432x288 with 1 Axes>"
      ]
     },
     "metadata": {
      "needs_background": "light"
     },
     "output_type": "display_data"
    }
   ],
   "source": [
    "# roc curve\n",
    "from sklearn.metrics import roc_curve,RocCurveDisplay,auc\n",
    "fpr, tpr, shreshold = roc_curve(y_test.astype('int').values.ravel(),y_predproba1[:,1])\n",
    "roc_display = RocCurveDisplay(fpr=fpr, tpr=tpr).plot()\n",
    "auc1 = auc(fpr, tpr) #获得AUC的另一种方法\n",
    "roc_display.ax_.set_title('ROC curve: ' 'AUC={0:0.2f}'.format(auc1))"
   ]
  },
  {
   "cell_type": "code",
   "execution_count": null,
   "metadata": {},
   "outputs": [],
   "source": [
    "#重复留出法\n"
   ]
  },
  {
   "cell_type": "markdown",
   "metadata": {},
   "source": [
    "### （二）lightGBM模型建立、优化与解释"
   ]
  },
  {
   "cell_type": "code",
   "execution_count": 326,
   "metadata": {},
   "outputs": [
    {
     "name": "stderr",
     "output_type": "stream",
     "text": [
      "/opt/anaconda3/lib/python3.8/site-packages/sklearn/utils/validation.py:73: DataConversionWarning: A column-vector y was passed when a 1d array was expected. Please change the shape of y to (n_samples, ), for example using ravel().\n",
      "  return f(**kwargs)\n"
     ]
    }
   ],
   "source": [
    "# 不进行参数优化，尝试观察模型效果\n",
    "from lightgbm import LGBMRegressor,LGBMClassifier\n",
    "\n",
    "lgb0 = LGBMClassifier(objective='binary',learning_rate = 0.1,\n",
    "                      n_estimators = 150,  num_leaves=20)\n",
    "\n",
    "lgb0 = lgb0.fit(X_train,y_train.astype('int').values)\n",
    "lgby_pred0 = lgb0.predict(X_test)\n",
    "lgby_predproba0 = lgb0.predict_proba(X_test) "
   ]
  },
  {
   "cell_type": "code",
   "execution_count": 327,
   "metadata": {},
   "outputs": [
    {
     "data": {
      "text/plain": [
       "0.9332520638179563"
      ]
     },
     "execution_count": 327,
     "metadata": {},
     "output_type": "execute_result"
    }
   ],
   "source": [
    "f1_score(y_true=y_test.astype('int').values,y_pred=lgby_pred0.astype('int'))"
   ]
  },
  {
   "cell_type": "code",
   "execution_count": 328,
   "metadata": {},
   "outputs": [
    {
     "data": {
      "text/plain": [
       "array([[326887,     42],\n",
       "       [  6200,  43637]])"
      ]
     },
     "execution_count": 328,
     "metadata": {},
     "output_type": "execute_result"
    }
   ],
   "source": [
    "confusion_matrix(y_true=y_test.astype('int').values,y_pred=lgby_pred0.astype('int'))"
   ]
  },
  {
   "cell_type": "code",
   "execution_count": 329,
   "metadata": {},
   "outputs": [
    {
     "data": {
      "text/plain": [
       "Text(0.5, 1.0, 'ROC curve: AUC=0.98')"
      ]
     },
     "execution_count": 329,
     "metadata": {},
     "output_type": "execute_result"
    },
    {
     "data": {
      "image/png": "[encoded data removed]",
      "text/plain": [
       "<Figure size 432x288 with 1 Axes>"
      ]
     },
     "metadata": {
      "needs_background": "light"
     },
     "output_type": "display_data"
    }
   ],
   "source": [
    "from sklearn.metrics import roc_curve,RocCurveDisplay,auc\n",
    "fpr, tpr, shreshold = roc_curve(y_test.astype('int').values.ravel(),lgby_predproba0[:,1])\n",
    "roc_display = RocCurveDisplay(fpr=fpr, tpr=tpr).plot()\n",
    "auc1 = auc(fpr, tpr) #获得AUC的另一种方法\n",
    "roc_display.ax_.set_title('ROC curve: ' 'AUC={0:0.2f}'.format(auc1))"
   ]
  },
  {
   "cell_type": "code",
   "execution_count": 331,
   "metadata": {},
   "outputs": [
    {
     "name": "stderr",
     "output_type": "stream",
     "text": [
      "/opt/anaconda3/lib/python3.8/site-packages/sklearn/utils/validation.py:73: DataConversionWarning: A column-vector y was passed when a 1d array was expected. Please change the shape of y to (n_samples, ), for example using ravel().\n",
      "  return f(**kwargs)\n"
     ]
    },
    {
     "name": "stdout",
     "output_type": "stream",
     "text": [
      "Best parameters found by grid search are: {'learning_rate': 0.05, 'n_estimators': 150, 'num_leaves': 20}\n"
     ]
    }
   ],
   "source": [
    "# 网格搜索，参数优化\n",
    "from sklearn.model_selection import GridSearchCV, train_test_split, StratifiedKFold\n",
    "\n",
    "lgb0 = LGBMClassifier(objective='binary',learning_rate = 0.1,\n",
    "                      n_estimators = 150, num_leaves=20,is_unbalance=True)\n",
    "\n",
    "\n",
    "param_grid = {\n",
    "    'learning_rate': [0.05, 0.1],\n",
    "    'n_estimators': [150,500],\n",
    "    'num_leaves':[12,20],\n",
    "}\n",
    "gs = GridSearchCV(lgb0, param_grid,cv=StratifiedKFold(n_splits=2, random_state=1, shuffle=True))\n",
    "gs.fit(X_train, y_train.astype('int').values,eval_metric='f1_score')\n",
    "print('Best parameters found by grid search are:', gs.best_params_)"
   ]
  },
  {
   "cell_type": "code",
   "execution_count": 332,
   "metadata": {},
   "outputs": [
    {
     "data": {
      "text/plain": [
       "{'learning_rate': 0.05, 'n_estimators': 150, 'num_leaves': 20}"
      ]
     },
     "execution_count": 332,
     "metadata": {},
     "output_type": "execute_result"
    }
   ],
   "source": [
    "gs.best_params_ #最佳参数组合"
   ]
  },
  {
   "cell_type": "code",
   "execution_count": 333,
   "metadata": {},
   "outputs": [
    {
     "data": {
      "text/plain": [
       "0.9823776561579336"
      ]
     },
     "execution_count": 333,
     "metadata": {},
     "output_type": "execute_result"
    }
   ],
   "source": [
    "gs.best_score_ #最佳参数组合下的f1_score"
   ]
  },
  {
   "cell_type": "code",
   "execution_count": 334,
   "metadata": {},
   "outputs": [
    {
     "data": {
      "text/plain": [
       "LGBMClassifier(is_unbalance=True, learning_rate=0.05, n_estimators=150,\n",
       "               num_leaves=20, objective='binary')"
      ]
     },
     "execution_count": 334,
     "metadata": {},
     "output_type": "execute_result"
    }
   ],
   "source": [
    "gs.best_estimator_"
   ]
  },
  {
   "cell_type": "code",
   "execution_count": 337,
   "metadata": {},
   "outputs": [],
   "source": [
    "#使用最优参数做预测\n",
    "lgb1 = gs.best_estimator_\n",
    "lgb1.fit(X_test, y_test.astype('int').values)\n",
    "lgby_pred1 = lgb1.predict(X_test)\n",
    "lgby_predproba1 = lgb1.predict_proba(X_test) "
   ]
  },
  {
   "cell_type": "code",
   "execution_count": 338,
   "metadata": {},
   "outputs": [
    {
     "data": {
      "image/png": "[encoded data removed]",
      "text/plain": [
       "<Figure size 1080x2160 with 1 Axes>"
      ]
     },
     "metadata": {
      "needs_background": "light"
     },
     "output_type": "display_data"
    }
   ],
   "source": [
    "# variance importance\n",
    "import matplotlib.pyplot as plt\n",
    "lgb1_importance = pd.Series(lgb1.feature_importances_,index = X_train.columns, name = 'Var')\n",
    "\n",
    "plt.figure(figsize=(15,30))\n",
    "lgb1_importance.sort_values().plot(kind='barh')\n",
    "plt.title(\"Variances Importances for lightGBM \")\n",
    "plt.savefig('/Users/helefei/Documents/统计建模/3 数据分析项目/数据分析项目提交/lightGBM最优模型变量重要性图.png')"
   ]
  },
  {
   "cell_type": "code",
   "execution_count": 355,
   "metadata": {},
   "outputs": [
    {
     "name": "stderr",
     "output_type": "stream",
     "text": [
      "/opt/anaconda3/lib/python3.8/site-packages/sklearn/utils/validation.py:73: DataConversionWarning: A column-vector y was passed when a 1d array was expected. Please change the shape of y to (n_samples, ), for example using ravel().\n",
      "  return f(**kwargs)\n"
     ]
    }
   ],
   "source": [
    "# random state=2\n",
    "lgb2 = LGBMClassifier(is_unbalance=True, learning_rate=0.05, n_estimators=150,\n",
    "               num_leaves=20, objective='binary')\n",
    "\n",
    "lgb2 = lgb2.fit(X_train,y_train.astype('int').values)\n",
    "lgby_pred2 = lgb2.predict(X_test)\n",
    "lgby_predproba2 = lgb2.predict_proba(X_test)"
   ]
  },
  {
   "cell_type": "code",
   "execution_count": 356,
   "metadata": {},
   "outputs": [
    {
     "data": {
      "text/plain": [
       "array([[326600,    329],\n",
       "       [  6091,  43746]])"
      ]
     },
     "execution_count": 356,
     "metadata": {},
     "output_type": "execute_result"
    }
   ],
   "source": [
    "# 混淆矩阵\n",
    "confusion_matrix(y_true=y_test.astype('str').values,y_pred=lgby_pred2.astype('str'))\n"
   ]
  },
  {
   "cell_type": "code",
   "execution_count": 357,
   "metadata": {},
   "outputs": [
    {
     "data": {
      "text/plain": [
       "0.931638129312548"
      ]
     },
     "execution_count": 357,
     "metadata": {},
     "output_type": "execute_result"
    }
   ],
   "source": [
    "# f1_score\n",
    "f1_score(y_true=y_test.astype('int').values,y_pred=lgby_pred2.astype('int'))"
   ]
  },
  {
   "cell_type": "code",
   "execution_count": 358,
   "metadata": {},
   "outputs": [
    {
     "name": "stdout",
     "output_type": "stream",
     "text": [
      "              precision    recall  f1-score   support\n",
      "\n",
      "           0       0.98      1.00      0.99    326929\n",
      "           1       0.99      0.88      0.93     49837\n",
      "\n",
      "    accuracy                           0.98    376766\n",
      "   macro avg       0.99      0.94      0.96    376766\n",
      "weighted avg       0.98      0.98      0.98    376766\n",
      "\n"
     ]
    }
   ],
   "source": [
    "print(classification_report(y_true=y_test.astype('str').values,y_pred=lgby_pred2.astype('str')))"
   ]
  },
  {
   "cell_type": "code",
   "execution_count": 359,
   "metadata": {},
   "outputs": [
    {
     "data": {
      "text/plain": [
       "Text(0.5, 1.0, 'ROC curve: AUC=0.98')"
      ]
     },
     "execution_count": 359,
     "metadata": {},
     "output_type": "execute_result"
    },
    {
     "data": {
      "image/png": "[encoded data removed]",
      "text/plain": [
       "<Figure size 432x288 with 1 Axes>"
      ]
     },
     "metadata": {
      "needs_background": "light"
     },
     "output_type": "display_data"
    }
   ],
   "source": [
    "# roc curve\n",
    "from sklearn.metrics import roc_curve,RocCurveDisplay,auc\n",
    "fpr, tpr, shreshold = roc_curve(y_test.astype('int').values.ravel(),lgby_predproba2[:,1])\n",
    "roc_display = RocCurveDisplay(fpr=fpr, tpr=tpr).plot()\n",
    "auc1 = auc(fpr, tpr) #获得AUC的另一种方法\n",
    "roc_display.ax_.set_title('ROC curve: ' 'AUC={0:0.2f}'.format(auc1))"
   ]
  },
  {
   "cell_type": "code",
   "execution_count": null,
   "metadata": {},
   "outputs": [],
   "source": []
  }
 ],
 "metadata": {
  "kernelspec": {
   "display_name": "Python 3",
   "language": "python",
   "name": "python3"
  },
  "language_info": {
   "codemirror_mode": {
    "name": "ipython",
    "version": 3
   },
   "file_extension": ".py",
   "mimetype": "text/x-python",
   "name": "python",
   "nbconvert_exporter": "python",
   "pygments_lexer": "ipython3",
   "version": "3.8.3"
  }
 },
 "nbformat": 4,
 "nbformat_minor": 4
}
